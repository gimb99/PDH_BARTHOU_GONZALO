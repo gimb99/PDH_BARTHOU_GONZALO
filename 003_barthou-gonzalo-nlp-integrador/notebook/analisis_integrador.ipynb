{
  "nbformat": 4,
  "nbformat_minor": 0,
  "metadata": {
    "colab": {
      "provenance": [],
      "collapsed_sections": [
        "2aRpIyk_BbOc",
        "sg7rPp55BPmx",
        "ygcafj-aQBJj",
        "K-fO7fIUoGP3",
        "JC9tVrWEsN0e",
        "3B6F51GYzKUK"
      ],
      "authorship_tag": "ABX9TyNi5TVCZ1oUdZGWiAJrDM2D"
    },
    "kernelspec": {
      "name": "python3",
      "display_name": "Python 3"
    },
    "language_info": {
      "name": "python"
    }
  },
  "cells": [
    {
      "cell_type": "markdown",
      "source": [
        "# Análisis de Privacidad de Usuario: ¿Cambio natural de paradigma o agenda forzada?\n",
        "## Trabajo Integrador Individual\n",
        "## \"De Texto Crudo a Insights: Pipeline Completo de Análisis de NLP\"\n",
        "\n",
        "**Fecha de entrega**: Jueves 25 de septiembre  \n",
        "\n",
        "---"
      ],
      "metadata": {
        "id": "amw_uwocTntI"
      }
    },
    {
      "cell_type": "markdown",
      "source": [
        "## 1.0 Selección de ideas anteriores"
      ],
      "metadata": {
        "id": "2aRpIyk_BbOc"
      }
    },
    {
      "cell_type": "markdown",
      "source": [
        "### Intento de Corpus literario"
      ],
      "metadata": {
        "id": "sg7rPp55BPmx"
      }
    },
    {
      "cell_type": "markdown",
      "source": [
        "Se han revisado varias fuentes posibles de información para cuentos contemporáneos o de autores latinoamericanos pero encontré varios problemas a la hora de seleccionar el corpus de este formato que cumpla con el criterio minimo de volumen para procesarlo...\n",
        "\n",
        "#### Project Gutenberg\n",
        "Usando https://www.gutenberg.org/browse/languages/es\n",
        "\n",
        "Autor elegido: Blasco Ibáñez, Vicente, 1867-1928\n",
        "\n",
        "No tenia suficiente volumen digerible para cuentos y las obras parecían dispersas y repetidas\n",
        "\n",
        "No tuve forma de encontrar en una forma concisa autores argentinos o latinoamericanos que estén en Gutenberg y que dispongan de mucho material usable para el proyecto... Podria buscar a mano pero tardaria mucho\n",
        "\n",
        "Se intentó recolectar datos con\n",
        "* Cuentos valencianos\n",
        "https://www.gutenberg.org/ebooks/66514\n",
        "\n",
        "* La condenada (cuentos)\n",
        "https://www.gutenberg.org/ebooks/27736\n",
        "\n",
        "* La Catedral\n",
        "\n",
        "Entre otros...\n",
        "\n",
        "#### Biblioteca Digital Argentina\n",
        "La página no se encuentra disponible, y las alternativas no son lo suficientemente voluminosas o contemporaneas para el target que se busca\n",
        "\n",
        "#### Cervantes Virtual\n",
        "Mayoritariamente autores españoles, se buscaban autores latinoamericanos\n",
        "\n",
        "#### Ciudad Seva\n",
        "De algun modo no me convenció del todo, y preferí buscar otro tipo de corpus para entonces"
      ],
      "metadata": {
        "id": "h1sZbwoET_Ul"
      }
    },
    {
      "cell_type": "markdown",
      "source": [
        "## 1.1 Descripción del corpus elegido\n",
        "Se decide entonces recolectar información relacionada al tema *tecnología*, con énfasis en el asunto de **privacidad**.\n",
        "\n",
        "### Fuentes seleccionadas\n",
        "\n",
        "Fuentes elegidas\n",
        "- https://derechodelared.com/\n",
        "- https://www.anred.org/\n",
        "- https://www.pagina12.com.ar/\n",
        "\n",
        "Se omiten otros sitios periodisticos como Clarin, La Nación e Infobae ya que no proporcionaban suficiente información relevante al filtro que queremos aplicar\n",
        "\n",
        "---\n",
        "\n",
        "Yapa - No usables pero interesantes para tener en RSS posiblemente?\n",
        "- https://www.elladodelmal.com/\n",
        "- (Listado con más blogs y sitios periodisticos) https://www.genbeta.com/seguridad/17-expertos-blogs-y-newsletter-a-seguir-si-de-verdad-te-interesan-seguridad-y-privacidad\n"
      ],
      "metadata": {
        "id": "JZ_pqIoyT42y"
      }
    },
    {
      "cell_type": "markdown",
      "source": [
        "## 1.2 Justificación de elección\n",
        "\n",
        "### ¿Por qué este corpus?\n",
        "\n",
        "La razón principal ocurre por dos factores:\n",
        "- A nivel temático, es un asunto contemporáneo que, como otros rubros de la ciencia, está constantemente en transformación y más considerando las tendencias de desarrollos de tecnologías automatizadas que se profundizaron en la última década.\n",
        "- Al ser un asunto popular, aporta un buen volumen con suficiente variabilidad para elegir algún tema específico sin que falten recursos para hacer una retrospectiva\n",
        "- Si bien fue un tema de debate durante el 2015 al 2020, el asunto de privacidad e integridad de datos de usuario es un tema que sigue siendo relevante y que no habria que perder de vista, más considerando el factor de recolección de datos usados para modelos de IA\n",
        "\n",
        "### ¿Qué buscamos descubrir?\n",
        "\n",
        "El enfoque de este corpus a analizar es el poder encontrar más contexto sobre los actores en juego a la hora de avanzar con ciertos cambios en la cotidianeidad del uso de nuestros datos personales\n",
        "\n",
        "### Hipotesis: \"¿De verdad es necesario todo esto?\"\n",
        "¿Son realmente necesarias las nuevas exigencias en los términos y condiciones modificados?\n",
        "\n",
        "¿Por qué se necesitan nuevas regulaciones año tras año de parte de protección de datos?\n",
        "\n",
        "¿El factor económico de redistribución de datos personales sigue siendo tan presente como hace 5 años?\n",
        "\n",
        "La hipótesis que planteo es que si bien se vió enlentecido el proceso de nuevos requerimientos que involucren vender nuestra privacidad de datos personales, sigue siendo igual de relevante que durante la década pasada.\n"
      ],
      "metadata": {
        "id": "8jy2UiCRCAVK"
      }
    },
    {
      "cell_type": "markdown",
      "source": [
        "## 1.3 Proceso de recolección\n",
        "\n",
        "Los textos fueron obtenidos a mano a través de las fuentes mencionadas en 1.1, utilizando las palabras \"privacidad\" y \"datos personales\" en los buscadores integrados de dichas páginas. Se ha incluido una fuente adicional usando un buscador como DuckDuckGo.\n",
        "\n",
        "### Criterios de inclusión/exclusión\n",
        "\n",
        "Se determina la exclusión de artículos que contengan:\n",
        "- Alto contenido en imágenes en formato de infografías\n",
        "- Contenido relacionado a la privacidad de una persona en particular (política/celebridad o no), a menos que se mencione información que aporte al contexto general del corpus\n",
        "- Anuncios de aplicaciones nuevas que puedan proporcionar alternativas a las comunes (usualmente están orientadas a cubrir las características del programa en vez de informar en general)\n",
        "\n",
        "### Dificultades y obstáculos\n",
        "\n",
        "En la obtención de recursos he encontrado los siguientes obstáculos:\n",
        "\n",
        "- Calidad de artículos gratuitos. Se encontraron los suficientes para cubrir casos recientes, pero muchos artículos se encuentran restringidos para usuarios registrados a newsletters.\n",
        "- Web scraping - La estructura de metadatos HTML varía mucho entre distintas fuentes. Un ejemplo de esto es al buscar el título de los artículos de www.derechodelared.com, la falta de dato de autor en los de www.anred.org, o los formatos variantes en fechas, etc.\n",
        "- Falta de tiempo para organizarme mejor. Muchas tareas en paralelo impidieron una mejor calidad de recolección.\n"
      ],
      "metadata": {
        "id": "Xg1w8noXP-Xu"
      }
    },
    {
      "cell_type": "markdown",
      "source": [
        "## 1.4 Estadísticas básicas"
      ],
      "metadata": {
        "id": "bXN3OVOr7hs7"
      }
    },
    {
      "cell_type": "markdown",
      "source": [
        "### Código inicial"
      ],
      "metadata": {
        "id": "xkPbyhfUEavC"
      }
    },
    {
      "cell_type": "markdown",
      "source": [
        "#### Import de librerias"
      ],
      "metadata": {
        "id": "ygcafj-aQBJj"
      }
    },
    {
      "cell_type": "code",
      "source": [
        "import requests\n",
        "from bs4 import BeautifulSoup\n",
        "import pandas as pd\n",
        "\n",
        "import os\n",
        "import re\n",
        "import shutil\n",
        "from google.colab import files\n",
        "from urllib.parse import urlparse\n",
        "\n",
        "# Manejo de errores\n",
        "import traceback\n"
      ],
      "metadata": {
        "id": "raOUHOweP_zg"
      },
      "execution_count": 37,
      "outputs": []
    },
    {
      "cell_type": "markdown",
      "source": [
        "#### Obtención de listado de URLs\n",
        "Las urls a probar de mi corpus están guardadas en un .txt dentro del repositorio"
      ],
      "metadata": {
        "id": "GcunddFwn-tN"
      }
    },
    {
      "cell_type": "code",
      "source": [
        "# 003_barthou-gonzalo-nlp-integrador/corpus/corpusList.txt\n",
        "\n",
        "# URL cruda del archivo en GitHub\n",
        "github_txt_url = \"https://raw.githubusercontent.com/gimb99/PDH_BARTHOU_GONZALO/refs/heads/main/003_barthou-gonzalo-nlp-integrador/corpus/corpusList.txt\"\n",
        "\n",
        "# Descargar y procesar las líneas\n",
        "response = requests.get(github_txt_url)\n",
        "lines = response.text.splitlines()\n",
        "urls = [line.strip() for line in lines if line.strip()]\n"
      ],
      "metadata": {
        "id": "4vcNJmDbRRg9"
      },
      "execution_count": 20,
      "outputs": []
    },
    {
      "cell_type": "markdown",
      "source": [
        "#### Guardado de .txt como archivos raw"
      ],
      "metadata": {
        "id": "K-fO7fIUoGP3"
      }
    },
    {
      "cell_type": "code",
      "source": [
        "# Crear carpeta para guardar los archivos\n",
        "folder = \"raw_texts\"\n",
        "os.makedirs(folder, exist_ok=True)\n",
        "\n",
        "# Función para limpiar el nombre del archivo\n",
        "def clean_filename(title, index):\n",
        "    title = re.sub(r'[^\\w\\s-]', '', title).strip().replace(' ', '_')\n",
        "    return f\"{index:03d}_{title[:50]}.txt\"  # Limita el nombre a 50 caracteres\n",
        "\n",
        "default_no_disponible = \"No disponible\"\n",
        "\n",
        "# Recorrer las URLs\n",
        "for i, url in enumerate(urls, start=1):\n",
        "    try:\n",
        "        response = requests.get(url)\n",
        "        soup = BeautifulSoup(response.content, \"html.parser\")\n",
        "\n",
        "        # Extraer título y texto (ajustar según el sitio)\n",
        "        domain = urlparse(url).netloc\n",
        "        try:\n",
        "          if \"derechodelared.com\" in domain:\n",
        "            title = soup.find(\"meta\", property=\"og:title\")[\"content\"]\n",
        "            autor_crudo = soup.find(\"a\", attrs={\"rel\": \"author\"})\n",
        "            autor_tag = default_no_disponible\n",
        "            if autor_crudo:\n",
        "              autor_tag = autor_crudo.get_text(strip=True)\n",
        "\n",
        "            fecha_tag = soup.find(\"meta\", property=\"article:published_time\")[\"content\"]\n",
        "            categoria_tag = soup.find(\"a\", rel=\"category tag\").get_text(strip=True)\n",
        "          elif \"www.pagina12.com\" in domain:\n",
        "            title = soup.find(\"meta\", property=\"og:title\")[\"content\"]\n",
        "            autor_tag = soup.find(\"meta\", property=\"article:author\")[\"content\"]\n",
        "            fecha_tag = soup.find(\"meta\", property=\"article:published_time\")[\"content\"]\n",
        "            categoria_tag = soup.find(\"meta\", property=\"article:section\")[\"content\"]\n",
        "          elif \"anred\" in domain:\n",
        "            title = soup.find(\"meta\", property=\"og:title\")[\"content\"]\n",
        "            # No se encuentran autores en muchos articulos, se procede a dejar en default\n",
        "            # autor_tag = soup.find(\"meta\", property=\"article:author\")[\"content\"]\n",
        "            autor_tag = default_no_disponible\n",
        "            #fecha_tag = soup.find(\"div\", class_=\"date text-muted\")\n",
        "            # 1. Localizar el div\n",
        "            fecha_crudo = soup.find(\"div\", class_=\"date text-muted\")\n",
        "            # 2. Extraer solo el texto y limpiarlo\n",
        "            fecha_texto = fecha_crudo.get_text(strip=True)  # -> \"14/03/2023\"\n",
        "            # 3. Parsear a objeto fecha de Python\n",
        "            from datetime import datetime\n",
        "            fecha_tag = datetime.strptime(fecha_texto, \"%d/%m/%Y\")\n",
        "\n",
        "            categoria_tag = soup.find(\"meta\", property=\"article:section\")[\"content\"]\n",
        "          else:\n",
        "            title = soup.find(\"h1\").get_text(strip=True)\n",
        "        except Exception as e:\n",
        "          print(f\"❌ Error con datos de {url}: {e}\")\n",
        "          traceback.print_exc()\n",
        "          title = f\"articulo_{i}\"\n",
        "\n",
        "        paragraphs = soup.find_all(\"p\")\n",
        "\n",
        "        # Guardado datos en variables\n",
        "        text = \"\\n\".join([p.get_text(strip=True) for p in paragraphs])\n",
        "        #autor_fuente = autor_tag.get_text(strip=True) if autor_tag else default_no_disponible\n",
        "        autor_fuente = autor_tag if autor_tag else default_no_disponible\n",
        "        #fecha = fecha_tag.get_text(strip=True) if fecha_tag else \"\"\n",
        "        fecha = fecha_tag if fecha_tag else default_no_disponible\n",
        "        #categoria = categoria_tag.get_text(strip=True) if categoria_tag else default_no_disponible\n",
        "        categoria = categoria_tag if categoria_tag else default_no_disponible\n",
        "\n",
        "        # Guardar como archivo .txt\n",
        "        filename = clean_filename(title, i)\n",
        "        filepath = os.path.join(folder, filename)\n",
        "\n",
        "        with open(filepath, \"w\", encoding=\"utf-8\") as f:\n",
        "            f.write(f\"URL: {url}\\n\")\n",
        "            f.write(f\"Título: {title}\\n\")\n",
        "            f.write(f\"Autor: {autor_fuente}\\n\")\n",
        "            f.write(f\"Fecha: {fecha}\\n\")\n",
        "            f.write(f\"Categoría: {categoria}\\n\\n\")\n",
        "            f.write(text)\n",
        "\n",
        "        print(f\"✅ Guardado: {filename}\")\n",
        "\n",
        "    except Exception as e:\n",
        "        print(f\"❌ Error con {url}: {e}\")"
      ],
      "metadata": {
        "colab": {
          "base_uri": "https://localhost:8080/"
        },
        "id": "u-zq56_Kn9GY",
        "outputId": "6f8f13ed-303e-4f2d-9a1b-83458e13feba"
      },
      "execution_count": 63,
      "outputs": [
        {
          "output_type": "stream",
          "name": "stdout",
          "text": [
            "✅ Guardado: 001_Tiktok_se_enfrenta_a_una_posible_multa_de_27_millo.txt\n",
            "✅ Guardado: 002_Manzana_podrida_decenas_de_exespías_israelíes_fuer.txt\n",
            "✅ Guardado: 003_El_auge_del_tecnofeudalismo__ANRed.txt\n",
            "✅ Guardado: 004_Qué_hay_detrás_de_las_colas_para_la_venta_de_iris_.txt\n",
            "✅ Guardado: 005_Sam_Altman_creador_de_ChatGPT_y_GPT-4_mi_peor_temo.txt\n",
            "✅ Guardado: 006_Natalia_Zuazo_el_problema_es_cuando_el_avance_de_l.txt\n",
            "✅ Guardado: 007_Espionaje_ilegal_del_Ministerio_de_Seguridad_porte.txt\n",
            "✅ Guardado: 008_Pensamiento_crítico_De_verdad_sabemos_qué_hacemos_.txt\n",
            "✅ Guardado: 009_CABA_la_Legislatura_porteña_debate_un_polémico_pro.txt\n",
            "✅ Guardado: 010_WhatsApp_no_cerrará_cuentas_pero_limitará_funcione.txt\n",
            "✅ Guardado: 011_Polisis_una_IA_que_se_lee_las_políticas_de_privaci.txt\n",
            "✅ Guardado: 012_La_AEPD_presenta_nuevos_recursos_para_fomentar_la_.txt\n",
            "✅ Guardado: 013_Chat_Control_el_plan_europeo_para_escanear_tus_men.txt\n",
            "✅ Guardado: 014_La_NSA_compra_datos_de_navegación_de_los_usuarios_.txt\n",
            "✅ Guardado: 015_Microsoft_mantendrá_en_la_UE_los_datos_personales_.txt\n",
            "✅ Guardado: 016_Pandemia_de_control_digital__ANRed.txt\n",
            "✅ Guardado: 017_Una_pelea_por_los_datos_de_los_usuarios__El_Reino_.txt\n",
            "✅ Guardado: 018_La_hora_de_los_nuevos_derechos_y_algo_más__Múltipl.txt\n",
            "✅ Guardado: 019_Marcas_enfrentan_el_desafío_de_reforzar_la_conexió.txt\n",
            "✅ Guardado: 020_Bullrich_desatada_autorizó_a_la_Policía_Federal_a_.txt\n",
            "✅ Guardado: 021_Meta_enfrenta_sanciones_millonarias_en_Nigeria_por.txt\n",
            "✅ Guardado: 022_Catamarca_y_Telecentro_firman_un_acuerdo_histórico.txt\n",
            "✅ Guardado: 023_Apple_multada_Francia_sanciona_con_162_millones_po.txt\n",
            "✅ Guardado: 024_Cómo_las_grandes_empresas_tech_lograron_meterse_en.txt\n",
            "✅ Guardado: 025_Globalización_recargada_nuevos_nacionalismos_y_con.txt\n",
            "✅ Guardado: 026_La_era_del_capitalismo_digital_magnates_tecnológic.txt\n"
          ]
        }
      ]
    },
    {
      "cell_type": "markdown",
      "source": [
        "##### Textos debug / desarrollo - Ignorar"
      ],
      "metadata": {
        "id": "JC9tVrWEsN0e"
      }
    },
    {
      "cell_type": "markdown",
      "source": [
        "Elminar carpeta para reintentar"
      ],
      "metadata": {
        "id": "jXAQu6YyxECV"
      }
    },
    {
      "cell_type": "code",
      "source": [
        "# Eliminar carpeta\n",
        "\n",
        "# folder = \"raw_texts\"\n",
        "# for filename in os.listdir(folder):\n",
        "#     file_path = os.path.join(folder, filename)\n",
        "#     try:\n",
        "#         if os.path.isfile(file_path):\n",
        "#             os.remove(file_path)\n",
        "#             print(f\"🗑️ Borrado: {filename}\")\n",
        "#     except Exception as e:\n",
        "#         print(f\"❌ Error con {filename}: {e}\")"
      ],
      "metadata": {
        "colab": {
          "base_uri": "https://localhost:8080/"
        },
        "collapsed": true,
        "id": "stz7QWy7sJqD",
        "outputId": "37a84109-6b8d-480f-8430-db0b51fa7168"
      },
      "execution_count": 62,
      "outputs": [
        {
          "output_type": "stream",
          "name": "stdout",
          "text": [
            "🗑️ Borrado: 003_El_auge_del_tecnofeudalismo__ANRed.txt\n",
            "🗑️ Borrado: 011_Polisis_una_IA_que_se_lee_las_políticas_de_privaci.txt\n",
            "🗑️ Borrado: 007_Espionaje_ilegal_del_Ministerio_de_Seguridad_porte.txt\n",
            "🗑️ Borrado: 023_Apple_multada_Francia_sanciona_con_162_millones_po.txt\n",
            "🗑️ Borrado: 004_Qué_hay_detrás_de_las_colas_para_la_venta_de_iris_.txt\n",
            "🗑️ Borrado: 026_La_era_del_capitalismo_digital_magnates_tecnológic.txt\n",
            "🗑️ Borrado: 013_Chat_Control_el_plan_europeo_para_escanear_tus_men.txt\n",
            "🗑️ Borrado: 024_Cómo_las_grandes_empresas_tech_lograron_meterse_en.txt\n",
            "🗑️ Borrado: 015_Microsoft_mantendrá_en_la_UE_los_datos_personales_.txt\n",
            "🗑️ Borrado: 005_Sam_Altman_creador_de_ChatGPT_y_GPT-4_mi_peor_temo.txt\n",
            "🗑️ Borrado: 022_Catamarca_y_Telecentro_firman_un_acuerdo_histórico.txt\n",
            "🗑️ Borrado: 008_Pensamiento_crítico_De_verdad_sabemos_qué_hacemos_.txt\n",
            "🗑️ Borrado: 002_Manzana_podrida_decenas_de_exespías_israelíes_fuer.txt\n",
            "🗑️ Borrado: 021_Meta_enfrenta_sanciones_millonarias_en_Nigeria_por.txt\n",
            "🗑️ Borrado: 020_Bullrich_desatada_autorizó_a_la_Policía_Federal_a_.txt\n",
            "🗑️ Borrado: 016_Pandemia_de_control_digital__ANRed.txt\n",
            "🗑️ Borrado: 018_La_hora_de_los_nuevos_derechos_y_algo_más__Múltipl.txt\n",
            "🗑️ Borrado: 019_Marcas_enfrentan_el_desafío_de_reforzar_la_conexió.txt\n",
            "🗑️ Borrado: 014_La_NSA_compra_datos_de_navegación_de_los_usuarios_.txt\n",
            "🗑️ Borrado: 025_Globalización_recargada_nuevos_nacionalismos_y_con.txt\n",
            "🗑️ Borrado: 006_Natalia_Zuazo_el_problema_es_cuando_el_avance_de_l.txt\n",
            "🗑️ Borrado: 017_Una_pelea_por_los_datos_de_los_usuarios__El_Reino_.txt\n",
            "🗑️ Borrado: 012_La_AEPD_presenta_nuevos_recursos_para_fomentar_la_.txt\n",
            "🗑️ Borrado: 001_Tiktok_se_enfrenta_a_una_posible_multa_de_27_millo.txt\n",
            "🗑️ Borrado: 010_WhatsApp_no_cerrará_cuentas_pero_limitará_funcione.txt\n",
            "🗑️ Borrado: 009_CABA_la_Legislatura_porteña_debate_un_polémico_pro.txt\n"
          ]
        }
      ]
    },
    {
      "cell_type": "markdown",
      "source": [
        "Guardado de zip"
      ],
      "metadata": {
        "id": "y8DIdrUuxGyu"
      }
    },
    {
      "cell_type": "code",
      "source": [
        "# Guardado de .zip para luego extraerlo y subirlo a github\n",
        "# shutil.make_archive(\"raw_texts\", \"zip\", \"raw_texts\")\n",
        "# files.download(\"raw_texts.zip\")"
      ],
      "metadata": {
        "colab": {
          "base_uri": "https://localhost:8080/",
          "height": 17
        },
        "id": "vZUjvefRpmyO",
        "outputId": "40a237bb-2004-4b68-da81-5a43402bf451"
      },
      "execution_count": 64,
      "outputs": [
        {
          "output_type": "display_data",
          "data": {
            "text/plain": [
              "<IPython.core.display.Javascript object>"
            ],
            "application/javascript": [
              "\n",
              "    async function download(id, filename, size) {\n",
              "      if (!google.colab.kernel.accessAllowed) {\n",
              "        return;\n",
              "      }\n",
              "      const div = document.createElement('div');\n",
              "      const label = document.createElement('label');\n",
              "      label.textContent = `Downloading \"${filename}\": `;\n",
              "      div.appendChild(label);\n",
              "      const progress = document.createElement('progress');\n",
              "      progress.max = size;\n",
              "      div.appendChild(progress);\n",
              "      document.body.appendChild(div);\n",
              "\n",
              "      const buffers = [];\n",
              "      let downloaded = 0;\n",
              "\n",
              "      const channel = await google.colab.kernel.comms.open(id);\n",
              "      // Send a message to notify the kernel that we're ready.\n",
              "      channel.send({})\n",
              "\n",
              "      for await (const message of channel.messages) {\n",
              "        // Send a message to notify the kernel that we're ready.\n",
              "        channel.send({})\n",
              "        if (message.buffers) {\n",
              "          for (const buffer of message.buffers) {\n",
              "            buffers.push(buffer);\n",
              "            downloaded += buffer.byteLength;\n",
              "            progress.value = downloaded;\n",
              "          }\n",
              "        }\n",
              "      }\n",
              "      const blob = new Blob(buffers, {type: 'application/binary'});\n",
              "      const a = document.createElement('a');\n",
              "      a.href = window.URL.createObjectURL(blob);\n",
              "      a.download = filename;\n",
              "      div.appendChild(a);\n",
              "      a.click();\n",
              "      div.remove();\n",
              "    }\n",
              "  "
            ]
          },
          "metadata": {}
        },
        {
          "output_type": "display_data",
          "data": {
            "text/plain": [
              "<IPython.core.display.Javascript object>"
            ],
            "application/javascript": [
              "download(\"download_7e0292c7-4e83-43c9-85f8-59ddc6ca104f\", \"raw_texts.zip\", 95105)"
            ]
          },
          "metadata": {}
        }
      ]
    },
    {
      "cell_type": "markdown",
      "source": [
        "#### Guardado de metadata.csv v2"
      ],
      "metadata": {
        "id": "3B6F51GYzKUK"
      }
    },
    {
      "cell_type": "code",
      "source": [
        "folder = \"raw_texts\"\n",
        "metadata = []\n",
        "\n",
        "for filename in os.listdir(folder):\n",
        "    filepath = os.path.join(folder, filename)\n",
        "\n",
        "    if os.path.isfile(filepath) and filename.endswith(\".txt\"):\n",
        "        with open(filepath, \"r\", encoding=\"utf-8\") as f:\n",
        "            content = f.read()\n",
        "\n",
        "        # Separar líneas para buscar metadatos\n",
        "        lines = content.splitlines()\n",
        "\n",
        "        # Extraer título, autor, fecha, categoría (si están presentes)\n",
        "        titulo = \"\"\n",
        "        autor_fuente = \"\"\n",
        "        fecha = \"\"\n",
        "        categoria = \"\"\n",
        "\n",
        "        for line in lines[:10]:  # Buscar en las primeras líneas\n",
        "            if line.lower().startswith(\"título:\"):\n",
        "                titulo = line.split(\":\", 1)[1].strip()\n",
        "            elif line.lower().startswith(\"autor:\") or line.lower().startswith(\"fuente:\"):\n",
        "                autor_fuente = line.split(\":\", 1)[1].strip()\n",
        "            elif line.lower().startswith(\"fecha:\"):\n",
        "                fecha = line.split(\":\", 1)[1].strip()\n",
        "            elif line.lower().startswith(\"categoría:\"):\n",
        "                categoria = line.split(\":\", 1)[1].strip()\n",
        "\n",
        "        # Calcular número aproximado de palabras\n",
        "        cuerpo = \"\\n\".join(lines[10:])  # Suponiendo que el cuerpo empieza después de los metadatos\n",
        "        palabras_aprox = len(cuerpo.split())\n",
        "\n",
        "        metadata.append({\n",
        "            \"archivo\": filename,\n",
        "            \"titulo\": titulo,\n",
        "            \"autor_fuente\": autor_fuente,\n",
        "            \"fecha\": fecha,\n",
        "            \"categoria\": categoria,\n",
        "            \"palabras_aprox\": palabras_aprox\n",
        "        })\n",
        "\n",
        "# Guardar como CSV\n",
        "df = pd.DataFrame(metadata)\n",
        "df.to_csv(\"metadata.csv\", index=False)\n"
      ],
      "metadata": {
        "id": "1tAtZVDXzNmC"
      },
      "execution_count": 65,
      "outputs": []
    },
    {
      "cell_type": "markdown",
      "source": [
        "### Número total de textos\n"
      ],
      "metadata": {
        "id": "qgzExEJB7n99"
      }
    },
    {
      "cell_type": "markdown",
      "source": [
        "#### Paso 0 - Get de metadata.csv desde GitHub"
      ],
      "metadata": {
        "id": "zOWZMIToNsf0"
      }
    },
    {
      "cell_type": "code",
      "source": [
        "# Opción A: si subiste metadata.csv directamente al espacio de Colab\n",
        "# df = pd.read_csv(\"metadata.csv\")\n",
        "\n",
        "# Opcion B / Obtener de github\n",
        "# URL cruda del archivo en GitHub\n",
        "github_metadata_url = \"https://raw.githubusercontent.com/gimb99/PDH_BARTHOU_GONZALO/refs/heads/main/003_barthou-gonzalo-nlp-integrador/corpus/metadata.csv\"\n",
        "\n",
        "# Descargar y procesar las líneas\n",
        "# response = requests.get(github_txt_url)\n",
        "df = pd.read_csv(github_metadata_url)"
      ],
      "metadata": {
        "id": "UQld3odRMSKO"
      },
      "execution_count": 67,
      "outputs": []
    },
    {
      "cell_type": "markdown",
      "source": [
        "#### Paso Real"
      ],
      "metadata": {
        "id": "fR9S0vI1NxPA"
      }
    },
    {
      "cell_type": "code",
      "source": [
        "# 2.1 Número total de textos\n",
        "total_textos = len(df)\n",
        "print(\"Total de textos:\", total_textos)"
      ],
      "metadata": {
        "colab": {
          "base_uri": "https://localhost:8080/"
        },
        "id": "v-T2XaXjNzK2",
        "outputId": "ce56dc4b-1ea7-49b8-a69d-3a0ee5f4e661"
      },
      "execution_count": 69,
      "outputs": [
        {
          "output_type": "stream",
          "name": "stdout",
          "text": [
            "Total de textos: 26\n"
          ]
        }
      ]
    },
    {
      "cell_type": "markdown",
      "source": [
        "### Número total de palabras"
      ],
      "metadata": {
        "id": "jhhQI-Sl7q1o"
      }
    },
    {
      "cell_type": "code",
      "source": [
        "total_palabras = df[\"palabras_aprox\"].sum()\n",
        "print(\"Total aproximado de palabras:\", total_palabras)"
      ],
      "metadata": {
        "colab": {
          "base_uri": "https://localhost:8080/"
        },
        "id": "gMK4IyFPN2Mc",
        "outputId": "2ecec557-4057-4eff-ff0a-1735d21ebd47"
      },
      "execution_count": 70,
      "outputs": [
        {
          "output_type": "stream",
          "name": "stdout",
          "text": [
            "Total aproximado de palabras: 25695\n"
          ]
        }
      ]
    },
    {
      "cell_type": "markdown",
      "source": [
        "### Distribución de tamaños de documentos"
      ],
      "metadata": {
        "id": "pjjeGCOL7sls"
      }
    },
    {
      "cell_type": "code",
      "source": [
        "# Estadísticos básicos\n",
        "print(df[\"palabras_aprox\"].describe())\n",
        "\n",
        "# Histograma con pandas/matplotlib\n",
        "import matplotlib.pyplot as plt\n",
        "\n",
        "plt.figure(figsize=(8,4))\n",
        "df[\"palabras_aprox\"].hist(bins=20)\n",
        "plt.title(\"Histograma de palabras aproximadas\")\n",
        "plt.xlabel(\"Palabras (aprox)\")\n",
        "plt.ylabel(\"Cantidad de textos\")\n",
        "plt.show()\n"
      ],
      "metadata": {
        "colab": {
          "base_uri": "https://localhost:8080/",
          "height": 566
        },
        "id": "CxYtPzTcOfZ2",
        "outputId": "88fef193-201f-4f76-bf01-5a9657d444e3"
      },
      "execution_count": 71,
      "outputs": [
        {
          "output_type": "stream",
          "name": "stdout",
          "text": [
            "count      26.000000\n",
            "mean      988.269231\n",
            "std       841.510526\n",
            "min        61.000000\n",
            "25%       283.000000\n",
            "50%       706.000000\n",
            "75%      1776.250000\n",
            "max      2585.000000\n",
            "Name: palabras_aprox, dtype: float64\n"
          ]
        },
        {
          "output_type": "display_data",
          "data": {
            "text/plain": [
              "<Figure size 800x400 with 1 Axes>"
            ],
            "image/png": "[encoded data removed]"
          },
          "metadata": {}
        }
      ]
    },
    {
      "cell_type": "markdown",
      "source": [
        "### Gráfico de distribución temporal"
      ],
      "metadata": {
        "id": "Qa0uIgssOkVq"
      }
    },
    {
      "cell_type": "code",
      "source": [
        "# Convertir 'fecha' a datetime (ajusta el formato si es necesario)\n",
        "df[\"fecha\"] = pd.to_datetime(df[\"fecha\"], dayfirst=True, errors=\"coerce\")\n",
        "\n",
        "# Agrupar por mes\n",
        "df_mes = df.groupby(df[\"fecha\"].dt.to_period(\"M\")).size()\n",
        "\n",
        "# Dibujar\n",
        "df_mes.plot(kind=\"bar\", figsize=(10,4))\n",
        "plt.title(\"Número de textos por mes\")\n",
        "plt.xlabel(\"Mes\")\n",
        "plt.ylabel(\"Cantidad de textos\")\n",
        "plt.xticks(rotation=45)\n",
        "plt.tight_layout()\n",
        "plt.show()\n"
      ],
      "metadata": {
        "colab": {
          "base_uri": "https://localhost:8080/",
          "height": 394
        },
        "id": "97IzBXcPOj-4",
        "outputId": "fe9a680e-f22a-45e4-b919-51d5118463a1"
      },
      "execution_count": 72,
      "outputs": [
        {
          "output_type": "stream",
          "name": "stderr",
          "text": [
            "/tmp/ipython-input-4053633844.py:2: UserWarning: Parsing dates in %Y-%m-%d %H:%M:%S format when dayfirst=True was specified. Pass `dayfirst=False` or specify a format to silence this warning.\n",
            "  df[\"fecha\"] = pd.to_datetime(df[\"fecha\"], dayfirst=True, errors=\"coerce\")\n"
          ]
        },
        {
          "output_type": "display_data",
          "data": {
            "text/plain": [
              "<Figure size 1000x400 with 1 Axes>"
            ],
            "image/png": "[encoded data removed]"
          },
          "metadata": {}
        }
      ]
    },
    {
      "cell_type": "markdown",
      "source": [
        "La distribución no da resultados eficientes dado que no se obtuvo una fecha con el mismo formato para todos los artículos. Por tanto, no es posible aplicar una distribución temporal a menos que se fixee el formato final en metadata.csv"
      ],
      "metadata": {
        "id": "IQHsVZZNOtWG"
      }
    },
    {
      "cell_type": "markdown",
      "source": [
        "## 1.5 Exploración inicial"
      ],
      "metadata": {
        "id": "stWEaB2Y7vEo"
      }
    },
    {
      "cell_type": "markdown",
      "source": [
        "---\n",
        "\n",
        "## Parte 2: Análisis Técnico - Estructura del Notebook\n"
      ],
      "metadata": {
        "id": "onmapu9NT5gI"
      }
    },
    {
      "cell_type": "markdown",
      "source": [],
      "metadata": {
        "id": "lti5KrHSccTn"
      }
    },
    {
      "cell_type": "markdown",
      "source": [
        "## Datos de commiteo - Ignorar"
      ],
      "metadata": {
        "id": "epq5HxFWEbEm"
      }
    },
    {
      "cell_type": "code",
      "source": [
        "## Para commits, guardar ruta como\n",
        "## 003_barthou-gonzalo-nlp-integrador/notebook/analisis_integrador.ipynb"
      ],
      "metadata": {
        "id": "lxwDTQr0EXru"
      },
      "execution_count": null,
      "outputs": []
    }
  ]
}