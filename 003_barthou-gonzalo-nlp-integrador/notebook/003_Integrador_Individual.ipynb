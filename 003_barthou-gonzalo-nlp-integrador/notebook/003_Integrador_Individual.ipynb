{
  "nbformat": 4,
  "nbformat_minor": 0,
  "metadata": {
    "colab": {
      "provenance": [],
      "toc_visible": true,
      "authorship_tag": "ABX9TyPCd8ETyvA0oMnVoUcLASDA"
    },
    "kernelspec": {
      "name": "python3",
      "display_name": "Python 3"
    },
    "language_info": {
      "name": "python"
    }
  },
  "cells": [
    {
      "cell_type": "markdown",
      "source": [
        "# Trabajo Integrador Individual\n",
        "## \"De Texto Crudo a Insights: Pipeline Completo de Análisis de NLP\"\n",
        "\n",
        "**Fecha de entrega**: Jueves 25 de septiembre  \n",
        "**Modalidad**: Individual  \n",
        "**Formato**: Repositorio GitHub con notebook documentado\n",
        "\n",
        "---"
      ],
      "metadata": {
        "id": "amw_uwocTntI"
      }
    },
    {
      "cell_type": "markdown",
      "source": [
        "## Parte 1: Construcción del Corpus\n"
      ],
      "metadata": {
        "id": "JZ_pqIoyT42y"
      }
    },
    {
      "cell_type": "markdown",
      "source": [
        "### Intento de Corpus literario"
      ],
      "metadata": {
        "id": "sg7rPp55BPmx"
      }
    },
    {
      "cell_type": "markdown",
      "source": [
        "Se han revisado varias fuentes posibles de información para cuentos contemporáneos o de autores latinoamericanos pero encontré varios problemas a la hora de seleccionar el corpus de este formato que cumpla con el criterio minimo de volumen para procesarlo...\n",
        "\n",
        "#### Project Gutenberg\n",
        "Usando https://www.gutenberg.org/browse/languages/es\n",
        "\n",
        "Autor elegido: Blasco Ibáñez, Vicente, 1867-1928\n",
        "\n",
        "No tenia suficiente volumen digerible para cuentos y las obras parecían dispersas y repetidas\n",
        "\n",
        "No tuve forma de encontrar en una forma concisa autores argentinos o latinoamericanos que estén en Gutenberg y que dispongan de mucho material usable para el proyecto... Podria buscar a mano pero tardaria mucho\n",
        "\n",
        "Se intentó recolectar datos con\n",
        "* Cuentos valencianos\n",
        "https://www.gutenberg.org/ebooks/66514\n",
        "\n",
        "* La condenada (cuentos)\n",
        "https://www.gutenberg.org/ebooks/27736\n",
        "\n",
        "* La Catedral\n",
        "\n",
        "Entre otros...\n",
        "\n",
        "#### Biblioteca Digital Argentina\n",
        "La página no se encuentra disponible, y las alternativas no son lo suficientemente voluminosas o contemporaneas para el target que se busca\n",
        "\n",
        "#### Cervantes Virtual\n",
        "Mayoritariamente autores españoles, se buscaban autores latinoamericanos\n",
        "\n",
        "#### Ciudad Seva\n",
        "De algun modo no me convenció del todo, y preferí buscar otro tipo de corpus para entonces"
      ],
      "metadata": {
        "id": "h1sZbwoET_Ul"
      }
    },
    {
      "cell_type": "markdown",
      "source": [
        "### Corpus periodistico\n",
        "\n",
        "Se decide entonces recolectar información relacionada al tema *tecnología*, con énfasis en el asunto de **privacidad**.\n",
        "\n",
        "Fuentes elegidas\n",
        "- https://derechodelared.com/\n",
        "- https://www.anred.org/\n",
        "-\n",
        "\n",
        "Yapa - No usables pero interesantes para tener en RSS posiblemente?\n",
        "- https://www.elladodelmal.com/\n",
        "- (Listado con más blogs y sitios periodisticos) https://www.genbeta.com/seguridad/17-expertos-blogs-y-newsletter-a-seguir-si-de-verdad-te-interesan-seguridad-y-privacidad"
      ],
      "metadata": {
        "id": "3Ze0kJtf-CTq"
      }
    },
    {
      "cell_type": "markdown",
      "source": [
        "---\n",
        "\n",
        "## Parte 2: Análisis Técnico - Estructura del Notebook\n"
      ],
      "metadata": {
        "id": "onmapu9NT5gI"
      }
    },
    {
      "cell_type": "markdown",
      "source": [],
      "metadata": {
        "id": "lti5KrHSccTn"
      }
    }
  ]
}