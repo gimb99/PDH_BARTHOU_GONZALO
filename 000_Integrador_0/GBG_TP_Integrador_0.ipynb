{
  "nbformat": 4,
  "nbformat_minor": 0,
  "metadata": {
    "colab": {
      "provenance": [],
      "authorship_tag": "ABX9TyOlmSB4cLCsTrhbmM0CeE7Z",
      "include_colab_link": true
    },
    "kernelspec": {
      "name": "python3",
      "display_name": "Python 3"
    },
    "language_info": {
      "name": "python"
    }
  },
  "cells": [
    {
      "cell_type": "markdown",
      "metadata": {
        "id": "view-in-github",
        "colab_type": "text"
      },
      "source": [
        "<a href=\"https://colab.research.google.com/github/gimb99/PDH_BARTHOU_GONZALO/blob/develop/000_Integrador_0/GBG_TP_Integrador_0.ipynb\" target=\"_parent\"><img src=\"https://colab.research.google.com/assets/colab-badge.svg\" alt=\"Open In Colab\"/></a>"
      ]
    },
    {
      "cell_type": "markdown",
      "source": [
        "\n",
        "**El Objetivo:** Crear una herramienta simple donde un usuario pueda pegar un texto y obtener un análisis básico de PLN al instante.\n",
        "\n",
        "### 🧠 Paso 1: El \"Cerebro\" de la Aplicación (La Función de Análisis)\n",
        "\n",
        "Primero, necesitamos una función principal que orqueste todo el trabajo. Esta función recibirá el texto del usuario, usará nuestra clase `ProcesadorTexto` para hacer los cálculos y preparará los resultados para ser mostrados.\n",
        "\n",
        "**Instrucciones:**\n",
        "1.  Completa el código de la función `analizar_texto(texto)` que te proporcionamos abajo.\n",
        "2.  Dentro de la función, debes **crear un objeto** de la clase `ProcesadorTexto`.\n",
        "3.  Usa los **métodos** de ese objeto (`.contar_palabras()`, `.contar_palabras_unicas()`, etc.) para obtener las métricas.\n",
        "4.  Formatea un `resumen` en un string amigable para el usuario.\n",
        "5.  La función debe **devolver dos cosas**: el string del resumen y el diccionario de frecuencias."
      ],
      "metadata": {
        "id": "USjSWUPT3Z3P"
      }
    },
    {
      "cell_type": "markdown",
      "source": [
        "## Importacion de Librerias"
      ],
      "metadata": {
        "id": "lre5WaST3hpK"
      }
    },
    {
      "cell_type": "code",
      "execution_count": null,
      "metadata": {
        "id": "4oM7w-1Y3O27"
      },
      "outputs": [],
      "source": [
        "# Asegúrate de que Gradio esté instalado\n",
        "!pip install gradio -q\n",
        "import gradio as gr"
      ]
    },
    {
      "cell_type": "markdown",
      "source": [
        "## Creación de libreria \"casera\""
      ],
      "metadata": {
        "id": "5l2miFR13lEr"
      }
    },
    {
      "cell_type": "code",
      "source": [
        "class ProcesadorTexto:\n",
        "    def __init__(self, texto):\n",
        "        self.texto_original = texto\n",
        "        self.texto_limpio = self.texto_original.lower().strip('.,!?')\n",
        "        self.palabras = self.texto_limpio.split()\n",
        "    def contar_palabras(self):\n",
        "        return len(self.palabras)\n",
        "\n",
        "    def contar_palabras_unicas(self):\n",
        "        return len(set(self.palabras))\n",
        "\n",
        "    def calcular_frecuencia(self):\n",
        "        frecuencia = {}\n",
        "        for palabra in self.palabras:\n",
        "            frecuencia[palabra] = frecuencia.get(palabra, 0) + 1\n",
        "        return frecuencia\n",
        "\n",
        "    def get_mas_frecuente(self):\n",
        "      # Uso funcion propia\n",
        "      frecuencias = self.calcular_frecuencia()\n",
        "      masFrecuenteOut = {}\n",
        "\n",
        "      # Asigno default\n",
        "      palabra_mas_frecuente = \"N/A\"\n",
        "      repeticiones = 0\n",
        "\n",
        "      if frecuencias:  # Verifica que el diccionario no esté vacío\n",
        "        palabra_mas_frecuente = max(frecuencias, key=frecuencias.get)\n",
        "        repeticiones = frecuencias[palabra_mas_frecuente]\n",
        "\n",
        "      masFrecuenteOut[\"palabra_mas_frecuente\"] = palabra_mas_frecuente\n",
        "      masFrecuenteOut[\"repeticiones\"] = repeticiones\n",
        "      return masFrecuenteOut\n",
        "\n"
      ],
      "metadata": {
        "id": "jIoAGhgt3o8E"
      },
      "execution_count": null,
      "outputs": []
    },
    {
      "cell_type": "markdown",
      "source": [
        "## Otras funciones"
      ],
      "metadata": {
        "id": "YclcCWQ07HV7"
      }
    },
    {
      "cell_type": "code",
      "source": [
        "def analizar_texto(texto):\n",
        "    \"\"\"\n",
        "    Esta función es el núcleo de nuestra app.\n",
        "    Recibe un texto, lo procesa con nuestra clase y devuelve los resultados.\n",
        "    \"\"\"\n",
        "    # Condición de seguridad por si el usuario no escribe nada.\n",
        "    if not texto.strip():\n",
        "        return \"Por favor, ingresa algo de texto para analizar.\", {}\n",
        "\n",
        "    # Crea una instancia de la clase ProcesadorTexto\n",
        "    procesador = ProcesadorTexto(texto)\n",
        "\n",
        "    # TODO 2: Usa los métodos del objeto para obtener:\n",
        "    # - Total de palabras\n",
        "    totalPalabras = procesador.contar_palabras()\n",
        "\n",
        "    # - Palabras únicas\n",
        "    totalUnicas = procesador.contar_palabras_unicas()\n",
        "\n",
        "    # - Diccionario de frecuencias\n",
        "    frecuenciasOut = procesador.calcular_frecuencia()\n",
        "\n",
        "    # TODO 3: (Opcional) Encuentra la palabra más frecuente\n",
        "    objMasFrecuente = procesador.get_mas_frecuente()\n",
        "\n",
        "    # TODO 4: Crea un string de resumen con formato\n",
        "    # Ejemplo de formato esperado:\n",
        "    \"\"\"\n",
        "    --- Resumen del Análisis ---\n",
        "    Total de Palabras: 25\n",
        "    Palabras Únicas: 20\n",
        "    Palabra Más Frecuente: 'python' (3 repeticiones)\n",
        "    \"\"\"\n",
        "    print(objMasFrecuente)\n",
        "    masFrecuente = objMasFrecuente[\"palabra_mas_frecuente\"]\n",
        "    repFrecuente = objMasFrecuente[\"repeticiones\"]\n",
        "    resumenOut = (\n",
        "      f\"--- Resumen del Análisis ---\\n\"\n",
        "      f\"Total de Palabras: {totalPalabras}\\n\"\n",
        "      f\"Palabras Únicas: {totalUnicas}\\n\"\n",
        "      f\"Palabra Más Frecuente: '{masFrecuente}' ({repFrecuente} repeticiones)\"\n",
        "    )\n",
        "\n",
        "    # TODO 5: Devuelve el resumen y el diccionario de frecuencias\n",
        "    return resumenOut, frecuenciasOut"
      ],
      "metadata": {
        "id": "7Q15szpo7LuG"
      },
      "execution_count": null,
      "outputs": []
    },
    {
      "cell_type": "code",
      "source": [
        "analizar_texto(\"Hola me gusta el bibi bibi con caipi\")"
      ],
      "metadata": {
        "colab": {
          "base_uri": "https://localhost:8080/"
        },
        "id": "8eB0gxYo-Y6F",
        "outputId": "eeffcc07-2d50-4d53-9f97-923f64bf57de"
      },
      "execution_count": null,
      "outputs": [
        {
          "output_type": "stream",
          "name": "stdout",
          "text": [
            "{'palabra_mas_frecuente': 'bibi', 'repeticiones': 2}\n"
          ]
        },
        {
          "output_type": "execute_result",
          "data": {
            "text/plain": [
              "(\"--- Resumen del Análisis ---\\nTotal de Palabras: 8\\nPalabras Únicas: 7\\nPalabra Más Frecuente: 'bibi' (2 repeticiones)\",\n",
              " {'hola': 1, 'me': 1, 'gusta': 1, 'el': 1, 'bibi': 2, 'con': 1, 'caipi': 1})"
            ]
          },
          "metadata": {},
          "execution_count": 45
        }
      ]
    },
    {
      "cell_type": "markdown",
      "source": [
        "### 🎨 Paso 2: La \"Cara\" de la Aplicación (La Interfaz de Gradio)\n",
        "\n",
        "Ahora que tenemos el \"cerebro\", vamos a conectarlo a una interfaz gráfica. Ya vimos Gradio, así que esta parte te resultará familiar.\n",
        "\n",
        "**Instrucciones:**\n",
        "1.  Observa el esqueleto de `gr.Interface`\n",
        "2.  Asegurate de que el parámetro `fn` apunte a tu función `analizar_texto`.\n",
        "3.  Definí los `inputs` y `outputs` correctamente. Queremos una caja de texto grande para la entrada y dos componentes de salida: uno para el resumen y otro para el diccionario de frecuencias.\n",
        "\n",
        "---"
      ],
      "metadata": {
        "id": "_NC3awUwBlfg"
      }
    },
    {
      "cell_type": "markdown",
      "source": [
        "### PASO 2: Configura la Interfaz de Gradio"
      ],
      "metadata": {
        "id": "YplY8kmKC4D8"
      }
    },
    {
      "cell_type": "code",
      "source": [
        "fn = analizar_texto,"
      ],
      "metadata": {
        "id": "-K3EUv9qBmBV"
      },
      "execution_count": null,
      "outputs": []
    },
    {
      "cell_type": "code",
      "source": [
        "demo = gr.Interface(\n",
        "    # TODO 6: Apunta 'fn' a tu función de análisis\n",
        "    fn = analizar_texto,  # Reemplaza con el nombre de tu función\n",
        "\n",
        "    # Configuración de la entrada\n",
        "    inputs = gr.Textbox(lines=10, placeholder=\"Escribí o pega un texto acá para analizarlo...\"),\n",
        "\n",
        "    # TODO 7: Configura las salidas\n",
        "    # Necesitas dos componentes:\n",
        "    # 1. Un Textbox para el resumen (gr.Textbox())\n",
        "    # 2. Un JSON para el diccionario (gr.JSON())\n",
        "    outputs=[\n",
        "        gr.Textbox(label=\"Resumen del Análisis\"),\n",
        "        gr.JSON(label=\"Frecuencia de Palabras\")\n",
        "    ],\n",
        "\n",
        "    # Detalles de la interfaz\n",
        "    title=\"📊 Analizador de Texto Interactivo\",\n",
        "    description=\"Creado por VOS con Python y Gradio. Introducí texto y descubrí sus secretos.\",\n",
        "    allow_flagging=\"never\"\n",
        ")"
      ],
      "metadata": {
        "id": "YpFDnum-Cqep"
      },
      "execution_count": null,
      "outputs": []
    },
    {
      "cell_type": "code",
      "source": [
        "# TODO 8: Descomenta esta línea cuando tu código esté listo\n",
        "demo.launch(share=True)  # share=True crea un enlace público temporal\n",
        "\n",
        "#Me gusta la caipiroska con una buena dosis de limon, quizas el limon es demasiado pero una buena helada viene bien para satisfacer el limon"
      ],
      "metadata": {
        "colab": {
          "base_uri": "https://localhost:8080/",
          "height": 650
        },
        "id": "9qcK1Wn7DfeU",
        "outputId": "d261e54d-3aa8-4684-b4fe-97ac71a398e0"
      },
      "execution_count": null,
      "outputs": [
        {
          "output_type": "stream",
          "name": "stdout",
          "text": [
            "Rerunning server... use `close()` to stop if you need to change `launch()` parameters.\n",
            "----\n",
            "Colab notebook detected. To show errors in colab notebook, set debug=True in launch()\n",
            "* Running on public URL: https://c71d1deeb87e74e112.gradio.live\n",
            "\n",
            "This share link expires in 1 week. For free permanent hosting and GPU upgrades, run `gradio deploy` from the terminal in the working directory to deploy to Hugging Face Spaces (https://huggingface.co/spaces)\n"
          ]
        },
        {
          "output_type": "display_data",
          "data": {
            "text/plain": [
              "<IPython.core.display.HTML object>"
            ],
            "text/html": [
              "<div><iframe src=\"https://c71d1deeb87e74e112.gradio.live\" width=\"100%\" height=\"500\" allow=\"autoplay; camera; microphone; clipboard-read; clipboard-write;\" frameborder=\"0\" allowfullscreen></iframe></div>"
            ]
          },
          "metadata": {}
        },
        {
          "output_type": "execute_result",
          "data": {
            "text/plain": []
          },
          "metadata": {},
          "execution_count": 51
        }
      ]
    }
  ]
}