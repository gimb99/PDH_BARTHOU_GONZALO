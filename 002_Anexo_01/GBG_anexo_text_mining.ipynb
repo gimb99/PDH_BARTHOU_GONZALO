{
  "nbformat": 4,
  "nbformat_minor": 0,
  "metadata": {
    "colab": {
      "provenance": []
    },
    "kernelspec": {
      "name": "python3",
      "display_name": "Python 3"
    },
    "language_info": {
      "name": "python"
    }
  },
  "cells": [
    {
      "cell_type": "markdown",
      "source": [
        "# Laboratorio Introductorio: Fundamentos de Text Mining\n",
        "## Preparación Conceptual para Análisis Avanzado de Texto"
      ],
      "metadata": {
        "id": "j_QS5SpP3B68"
      }
    },
    {
      "cell_type": "markdown",
      "source": [
        "## Mapa Conceptual: Nuestro Recorrido en Procesamiento de Lenguaje Natural\n",
        "\n",
        "### Ubicación Metodológica: ¿Dónde Estamos?\n",
        "\n",
        "En el campo del Procesamiento de Lenguaje Natural existen diferentes enfoques metodológicos que han evolucionado históricamente:\n",
        "\n",
        "**ETAPA 1: MÉTODOS BASADOS EN REGLAS**\n",
        "- Fundamento: \"Le decimos a la máquina exactamente qué hacer\"\n",
        "- Enfoque: Programación explícita con expresiones regulares y diccionarios\n",
        "- Ejemplos: Buscar patrones específicos, validar formatos, extraer información estructurada\n",
        "\n",
        "**ETAPA 2: MÉTODOS ESTADÍSTICOS/FRECUENCIALES** (AQUÍ ESTAMOS HOY)\n",
        "- Fundamento: \"La máquina cuenta y encuentra patrones en los números\"\n",
        "- Enfoque: Análisis de frecuencias y patrones estadísticos\n",
        "- Herramientas: Bag of Words, TF-IDF, análisis de frecuencias\n",
        "- Proyecto: Text Mining con el corpus de Hernán Casciari\n",
        "\n",
        "**ETAPA 3: MACHINE LEARNING TRADICIONAL** (PRÓXIMO DESTINO)\n",
        "- Fundamento: \"La máquina aprende patrones de ejemplos\"\n",
        "- Enfoque: Algoritmos de clasificación y clustering\n",
        "- Ejemplos: Clasificación de sentimientos, detección de spam\n",
        "\n",
        "**ETAPAS FUTURAS**: Redes Neuronales → Modelado de Lenguaje → Transformers → Large Language Models\n",
        "\n",
        "### Criterios de Selección Metodológica\n",
        "\n",
        "**USAR REGLAS cuando:**\n",
        "- El patrón es explícito y conocido\n",
        "- Necesitamos precisión total (ej: validar emails)\n",
        "- El dominio es estrecho y controlado\n",
        "- Ejemplo: Extraer fechas con formato específico\n",
        "\n",
        "**USAR ESTADÍSTICA/FRECUENCIAS cuando:**\n",
        "- Queremos explorar y descubrir patrones\n",
        "- El volumen de datos es grande\n",
        "- Buscamos tendencias y comparaciones\n",
        "- Ejemplo: ¿De qué habla más Casciari cada año?\n",
        "\n",
        "**USAR MACHINE LEARNING cuando:**\n",
        "- Necesitamos generalización a datos nuevos\n",
        "- Los patrones son complejos y no obvios\n",
        "- Tenemos ejemplos etiquetados para entrenar\n",
        "- Ejemplo: Clasificar emails como spam/no-spam\n",
        "\n",
        "### Objetivos de Este Laboratorio\n",
        "\n",
        "Al finalizar esta preparación conceptual podrás:\n",
        "\n",
        "1. **Dominar estructuras de datos Python** esenciales para NLP\n",
        "2. **Aplicar operaciones con Pandas** para análisis textual\n",
        "3. **Interpretar visualizaciones** de text mining\n",
        "4. **Comprender la transición** de Python básico a análisis de texto\n",
        "5. **Conectar conceptos técnicos** con el pipeline de text mining\n",
        "\n",
        "### Metodología de Trabajo\n",
        "\n",
        "1. **Ejecuta las celdas** siguiendo la secuencia propuesta\n",
        "2. **Experimenta modificando** los parámetros de los ejemplos\n",
        "3. **Conecta cada concepto** con el proyecto de análisis de Casciari\n",
        "4. **Resuelve los ejercicios** para consolidar el aprendizaje\n",
        "5. **Reflexiona sobre** las preguntas conceptuales planteadas"
      ],
      "metadata": {
        "id": "PbOcc-Yo3Gxk"
      }
    },
    {
      "cell_type": "markdown",
      "source": [
        "## De Python a NLP: Conectando Conceptos Fundamentales\n",
        "\n",
        "### El Pipeline de Text Mining: Visión General\n",
        "\n",
        "El procesamiento de textos sigue un pipeline sistemático que transforma texto no estructurado en información cuantificable:\n",
        "\n",
        "1. **EXPLORACIÓN** → ¿Qué datos tenemos?\n",
        "2. **LIMPIEZA** → ¿Qué ruido eliminar?\n",
        "3. **TOKENIZACIÓN** → ¿Cómo dividir el texto?\n",
        "4. **FILTRADO** → ¿Qué palabras importan?\n",
        "5. **VECTORIZACIÓN** → ¿Cómo representar numéricamente?\n",
        "6. **ANÁLISIS** → ¿Qué patrones emergen?\n",
        "7. **VISUALIZACIÓN** → ¿Cómo comunicar hallazgos?\n",
        "\n",
        "### Transformaciones Conceptuales Clave\n",
        "\n",
        "**Listas → Vocabularios**\n",
        "Las listas de Python se convierten en vocabularios de nuestro corpus. Cada palabra única se convierte en una dimensión de análisis.\n",
        "\n",
        "**Diccionarios → Vectores de Frecuencia**\n",
        "Los conteos de palabras se almacenan en diccionarios que posteriormente se transforman en vectores numéricos para análisis matemático.\n",
        "\n",
        "**DataFrames → Matrices Documento-Término**\n",
        "La estructura bidimensional de pandas permite representar corpus completos: cada fila es un documento, cada columna es una palabra.\n",
        "\n",
        "**Lambda + apply() → Transformaciones Masivas**\n",
        "Las funciones lambda con apply() nos permiten procesar miles de documentos aplicando operaciones de limpieza y transformación de manera eficiente.\n",
        "\n",
        "### El Caso Casciari: Hilo Conductor del Análisis\n",
        "\n",
        "Trabajaremos con los cuentos de Hernán Casciari (2004-2015) como corpus de estudio porque:\n",
        "\n",
        "- **Dimensión temporal**: 12 años de evolución lingüística\n",
        "- **Coherencia estilística**: Un único autor, estilo personal reconocible\n",
        "- **Riqueza temática**: Temas familiares, sociales y autobiográficos\n",
        "- **Volumen manejable**: Suficiente para análisis significativo, no abrumador para aprender\n",
        "\n",
        "Este corpus nos permitirá observar cómo las técnicas de text mining revelan patrones que serían imposibles de detectar mediante lectura manual."
      ],
      "metadata": {
        "id": "QqfRSuNZzCc-"
      }
    },
    {
      "cell_type": "markdown",
      "source": [
        "## Parte 1: Estructuras de Datos Python para Text Mining"
      ],
      "metadata": {
        "id": "cY0uZutgzCdA"
      }
    },
    {
      "cell_type": "markdown",
      "source": [
        "### Listas: Fundamento de los Vocabularios\n",
        "\n",
        "En text mining, las listas almacenan secuencias ordenadas de elementos textuales: palabras, frases, o documentos completos. Dominar las operaciones básicas con listas es esencial para manipular corpus de texto."
      ],
      "metadata": {
        "id": "sZbwZ0DxF0CO"
      }
    },
    {
      "cell_type": "code",
      "source": [
        "# Ejemplo: Construyendo un vocabulario temático de Casciari\n",
        "palabras_casciari = [\"libro\", \"padre\", \"fútbol\", \"escritura\", \"familia\"]\n",
        "print(\"Vocabulario inicial:\", palabras_casciari)\n",
        "\n",
        "# Operaciones esenciales para text mining\n",
        "palabras_casciari.append(\"argentina\")  # Añadir términos nuevos\n",
        "palabras_casciari.extend([\"blog\", \"cuento\"])  # Expandir vocabulario\n",
        "print(\"Vocabulario expandido:\", palabras_casciari)\n",
        "\n",
        "# Acceso y manipulación\n",
        "print(\"Primera palabra temática:\", palabras_casciari[0])\n",
        "print(\"Últimas dos palabras:\", palabras_casciari[-2:])\n",
        "print(\"Total de términos:\", len(palabras_casciari))"
      ],
      "metadata": {
        "colab": {
          "base_uri": "https://localhost:8080/"
        },
        "id": "_Hkcv-VzzCdB",
        "outputId": "4c64860e-4bf9-4603-e6f2-0714f9aa57f9"
      },
      "execution_count": 1,
      "outputs": [
        {
          "output_type": "stream",
          "name": "stdout",
          "text": [
            "Vocabulario inicial: ['libro', 'padre', 'fútbol', 'escritura', 'familia']\n",
            "Vocabulario expandido: ['libro', 'padre', 'fútbol', 'escritura', 'familia', 'argentina', 'blog', 'cuento']\n",
            "Primera palabra temática: libro\n",
            "Últimas dos palabras: ['blog', 'cuento']\n",
            "Total de términos: 8\n"
          ]
        }
      ]
    },
    {
      "cell_type": "markdown",
      "source": [
        "#### Ejercicio 1: Construcción de Vocabulario\n",
        "\n",
        "Instrucciones: Agrega tres palabras más relacionadas con la temática de Casciari (familia, literatura, Argentina) y muestra el vocabulario final con su longitud total."
      ],
      "metadata": {
        "id": "BF3jZXj0Fhe3"
      }
    },
    {
      "cell_type": "code",
      "source": [
        "palabras_casciari.append(\"biografia\")\n",
        "palabras_casciari.append(\"social\")\n",
        "palabras_casciari.append(\"nacional\")"
      ],
      "metadata": {
        "id": "vpkxXqx1EQGc"
      },
      "execution_count": 2,
      "outputs": []
    },
    {
      "cell_type": "code",
      "source": [
        "print(\"Vocabulario nuevo:\", palabras_casciari)\n",
        "print(\"Total de términos:\", len(palabras_casciari))"
      ],
      "metadata": {
        "colab": {
          "base_uri": "https://localhost:8080/"
        },
        "id": "TROCV7VBEl6r",
        "outputId": "85a3d977-9d06-4d0f-b8c2-69a2cbae469b"
      },
      "execution_count": 3,
      "outputs": [
        {
          "output_type": "stream",
          "name": "stdout",
          "text": [
            "Vocabulario nuevo: ['libro', 'padre', 'fútbol', 'escritura', 'familia', 'argentina', 'blog', 'cuento', 'biografia', 'social', 'nacional']\n",
            "Total de términos: 11\n"
          ]
        }
      ]
    },
    {
      "cell_type": "markdown",
      "source": [
        "### Diccionarios: Vectores de Frecuencia\n",
        "\n",
        "Los diccionarios representan la estructura fundamental para contar frecuencias de palabras. En text mining, cada diccionario puede representar un documento como vector de frecuencias término-valor."
      ],
      "metadata": {
        "id": "UbIzRrr0zCdE"
      }
    },
    {
      "cell_type": "code",
      "source": [
        "# Ejemplo: Representando un documento como vector de frecuencias\n",
        "documento_casciari = {\n",
        "    \"título\": \"Más respeto, que soy tu madre\",\n",
        "    \"año_publicacion\": 2005,\n",
        "    \"temas_principales\": [\"familia\", \"humor\", \"argentina\"],\n",
        "    \"palabras_frecuentes\": {\n",
        "        \"madre\": 45,\n",
        "        \"hijo\": 32,\n",
        "        \"casa\": 28,\n",
        "        \"familia\": 23,\n",
        "        \"argentina\": 15\n",
        "    }\n",
        "}\n",
        "\n",
        "# Acceso a información estructurada\n",
        "print(\"Análisis del documento:\", documento_casciari[\"título\"])\n",
        "print(\"Año:\", documento_casciari[\"año_publicacion\"])\n",
        "print(\"Palabra más frecuente:\", max(documento_casciari[\"palabras_frecuentes\"],\n",
        "                                   key=documento_casciari[\"palabras_frecuentes\"].get))\n",
        "\n",
        "# Modificación dinámica (simulando actualización de conteos)\n",
        "documento_casciari[\"palabras_frecuentes\"][\"humor\"] = 41\n",
        "print(\"Frecuencia de 'humor':\", documento_casciari[\"palabras_frecuentes\"][\"humor\"])"
      ],
      "metadata": {
        "id": "EcSUY3B2B_Pl",
        "colab": {
          "base_uri": "https://localhost:8080/"
        },
        "outputId": "bdd4c299-38d7-436a-c8d1-15a62b872393"
      },
      "execution_count": 4,
      "outputs": [
        {
          "output_type": "stream",
          "name": "stdout",
          "text": [
            "Análisis del documento: Más respeto, que soy tu madre\n",
            "Año: 2005\n",
            "Palabra más frecuente: madre\n",
            "Frecuencia de 'humor': 41\n"
          ]
        }
      ]
    },
    {
      "cell_type": "markdown",
      "source": [
        "\n",
        "\n",
        "---"
      ],
      "metadata": {
        "id": "0MvamY9iFRIm"
      }
    },
    {
      "cell_type": "markdown",
      "source": [
        "#### Ejercicio 2: Vector de Frecuencias\n",
        "\n",
        "Instrucciones: Añade una nueva entrada al diccionario \"palabras_frecuentes\" con la clave \"escritura\" y un valor de frecuencia de tu elección. Luego imprime el diccionario actualizado e identifica las tres palabras más frecuentes."
      ],
      "metadata": {
        "id": "rsSrk6LWFFwO"
      }
    },
    {
      "cell_type": "code",
      "source": [
        "palabras_frecuentes = documento_casciari[\"palabras_frecuentes\"]\n",
        "palabras_frecuentes[\"escritura\"] = 68\n",
        "# Guardo nuevos campos completos\n",
        "documento_casciari[\"palabras_frecuentes\"] = palabras_frecuentes"
      ],
      "metadata": {
        "id": "I4pJbO1lFOCr"
      },
      "execution_count": 5,
      "outputs": []
    },
    {
      "cell_type": "code",
      "source": [
        "# Acceso a información estructurada\n",
        "print(\"Análisis del documento:\", documento_casciari[\"título\"])\n",
        "print(\"Año:\", documento_casciari[\"año_publicacion\"])\n",
        "print(\"Palabras frecuentes:\", documento_casciari[\"palabras_frecuentes\"])\n",
        "\n",
        "# Ordeno palabras frecuentes\n",
        "frecuentes_orden = dict(sorted(documento_casciari[\"palabras_frecuentes\"].items(), key=lambda item: item[1], reverse=True))\n",
        "#print(\"3 palabras mas frecuentes:\", frecuentes_orden[0][0])\n",
        "primeros_tres = dict(list(frecuentes_orden.items())[:3])\n",
        "print(\"3 palabras mas frecuentes:\", primeros_tres)"
      ],
      "metadata": {
        "colab": {
          "base_uri": "https://localhost:8080/"
        },
        "id": "kYlUOaBXGx_6",
        "outputId": "5a54e936-335e-4943-8eca-d2763df03f36"
      },
      "execution_count": 6,
      "outputs": [
        {
          "output_type": "stream",
          "name": "stdout",
          "text": [
            "Análisis del documento: Más respeto, que soy tu madre\n",
            "Año: 2005\n",
            "Palabras frecuentes: {'madre': 45, 'hijo': 32, 'casa': 28, 'familia': 23, 'argentina': 15, 'humor': 41, 'escritura': 68}\n",
            "3 palabras mas frecuentes: {'escritura': 68, 'madre': 45, 'humor': 41}\n"
          ]
        }
      ]
    },
    {
      "cell_type": "markdown",
      "source": [
        "\n",
        "\n",
        "---\n",
        "\n"
      ],
      "metadata": {
        "id": "CaQ6wX85FPcB"
      }
    },
    {
      "cell_type": "code",
      "source": [
        "# Simulación de matriz documento-término para corpus de Casciari\n",
        "import pandas as pd\n",
        "\n",
        "# Datos que representan frecuencias de palabras por año\n",
        "corpus_casciari = {\n",
        "    'Año': ['2004', '2005', '2006', '2007'],\n",
        "    'padre': [45, 32, 28, 35],\n",
        "    'madre': [23, 45, 18, 22],\n",
        "    'fútbol': [67, 45, 52, 41],\n",
        "    'escritura': [12, 28, 34, 29],\n",
        "    'argentina': [31, 28, 25, 33]\n",
        "}\n",
        "\n",
        "df_casciari = pd.DataFrame(corpus_casciari)\n",
        "df_casciari = df_casciari.set_index('Año')  # Año como índice para mejor interpretación\n",
        "\n",
        "print(\"Matriz Documento-Término del Corpus de Casciari:\")\n",
        "print(df_casciari)\n",
        "print(\"\\nDimensiones de la matriz:\", df_casciari.shape)\n",
        "print(\"Documentos (filas):\", df_casciari.shape[0])\n",
        "print(\"Vocabulario (columnas):\", df_casciari.shape[1])"
      ],
      "metadata": {
        "id": "mQyjzjkhCKVR",
        "colab": {
          "base_uri": "https://localhost:8080/"
        },
        "outputId": "e117e1d9-dda0-4cfe-b78c-9a3209250040"
      },
      "execution_count": 31,
      "outputs": [
        {
          "output_type": "stream",
          "name": "stdout",
          "text": [
            "Matriz Documento-Término del Corpus de Casciari:\n",
            "      padre  madre  fútbol  escritura  argentina\n",
            "Año                                             \n",
            "2004     45     23      67         12         31\n",
            "2005     32     45      45         28         28\n",
            "2006     28     18      52         34         25\n",
            "2007     35     22      41         29         33\n",
            "\n",
            "Dimensiones de la matriz: (4, 5)\n",
            "Documentos (filas): 4\n",
            "Vocabulario (columnas): 5\n"
          ]
        }
      ]
    },
    {
      "cell_type": "code",
      "source": [
        "# Operaciones de análisis en la matriz documento-término\n",
        "\n",
        "# Por columna (análisis de palabras a través del tiempo)\n",
        "print(\"Evolución de la palabra 'padre' por año:\")\n",
        "print(df_casciari['padre'])\n",
        "print()\n",
        "\n",
        "# Por fila (perfil vocabular de un año específico)\n",
        "print(\"Perfil léxico del año 2005:\")\n",
        "print(df_casciari.loc['2005'])\n",
        "print()\n",
        "\n",
        "# Por condición (filtrado analítico)\n",
        "print(\"Años donde 'fútbol' aparece más de 50 veces:\")\n",
        "años_futbol_alto = df_casciari[df_casciari['fútbol'] > 50]\n",
        "print(años_futbol_alto)"
      ],
      "metadata": {
        "id": "2ldlNkmG3oSf",
        "colab": {
          "base_uri": "https://localhost:8080/"
        },
        "outputId": "4519f08d-9ad3-4b49-ad8d-d43548df9488"
      },
      "execution_count": 32,
      "outputs": [
        {
          "output_type": "stream",
          "name": "stdout",
          "text": [
            "Evolución de la palabra 'padre' por año:\n",
            "Año\n",
            "2004    45\n",
            "2005    32\n",
            "2006    28\n",
            "2007    35\n",
            "Name: padre, dtype: int64\n",
            "\n",
            "Perfil léxico del año 2005:\n",
            "padre        32\n",
            "madre        45\n",
            "fútbol       45\n",
            "escritura    28\n",
            "argentina    28\n",
            "Name: 2005, dtype: int64\n",
            "\n",
            "Años donde 'fútbol' aparece más de 50 veces:\n",
            "      padre  madre  fútbol  escritura  argentina\n",
            "Año                                             \n",
            "2004     45     23      67         12         31\n",
            "2006     28     18      52         34         25\n"
          ]
        }
      ]
    },
    {
      "cell_type": "markdown",
      "source": [
        "### Interpretación Conceptual de la Matriz\n",
        "\n",
        "**Analogía fundamental:**\n",
        "Imagina la matriz como una tabla de Excel donde:\n",
        "- **Filas = Documentos** (en nuestro caso, años de escritura de Casciari)\n",
        "- **Columnas = Palabras** del vocabulario total\n",
        "- **Valores = Frecuencias** de aparición de cada palabra en cada documento\n",
        "\n",
        "**Ventajas analíticas:**\n",
        "- **Comparación temporal:** ¿Cómo evoluciona el uso de una palabra?\n",
        "- **Perfil léxico:** ¿Qué caracteriza el vocabulario de un período?\n",
        "- **Análisis cuantitativo:** ¿Qué palabras dominan cada época?"
      ],
      "metadata": {
        "id": "k52kFOIv4uBd"
      }
    },
    {
      "cell_type": "markdown",
      "source": [
        "#### Ejercicio 3: Análisis de Matriz Documento-Término\n",
        "\n",
        "Instrucciones:\n",
        "1. Añade una nueva columna \"blog\" al DataFrame con valores `[15, 22, 18, 25]`\n",
        "2. Identifica qué año tuvo la mayor frecuencia total de palabras\n",
        "3. Encuentra qué palabra tiene la mayor variabilidad entre años (diferencia entre máximo y mínimo)"
      ],
      "metadata": {
        "id": "E7f-OTd0441b"
      }
    },
    {
      "cell_type": "code",
      "source": [
        "# Simulación de matriz documento-término para corpus de Casciari\n",
        "import pandas as pd\n",
        "\n",
        "# Agrego campo blog\n",
        "corpus_casciari[\"blog\"] = [15, 22, 18, 25]\n",
        "\n",
        "# Reconvierto a df\n",
        "df_casciari = pd.DataFrame(corpus_casciari)\n",
        "# Año como índice para mejor interpretación\n",
        "df_casciari = df_casciari.set_index('Año')\n",
        "print(df_casciari)\n"
      ],
      "metadata": {
        "colab": {
          "base_uri": "https://localhost:8080/"
        },
        "id": "bKl9TPR6wyqb",
        "outputId": "9d6107d9-84a1-429b-86dd-82a4669317ba"
      },
      "execution_count": 33,
      "outputs": [
        {
          "output_type": "stream",
          "name": "stdout",
          "text": [
            "      padre  madre  fútbol  escritura  argentina  blog\n",
            "Año                                                   \n",
            "2004     45     23      67         12         31    15\n",
            "2005     32     45      45         28         28    22\n",
            "2006     28     18      52         34         25    18\n",
            "2007     35     22      41         29         33    25\n"
          ]
        }
      ]
    },
    {
      "cell_type": "code",
      "source": [
        "print(df_casciari.columns)"
      ],
      "metadata": {
        "colab": {
          "base_uri": "https://localhost:8080/"
        },
        "id": "Aph9Gzx90ty_",
        "outputId": "8771e63f-9060-498f-f47d-ab5b52eae9d1"
      },
      "execution_count": 10,
      "outputs": [
        {
          "output_type": "stream",
          "name": "stdout",
          "text": [
            "Index(['padre', 'madre', 'fútbol', 'escritura', 'argentina', 'blog'], dtype='object')\n"
          ]
        }
      ]
    },
    {
      "cell_type": "markdown",
      "source": [
        "Año está como indice, por tanto podría tener que hacer una modificación de estructura"
      ],
      "metadata": {
        "id": "8CNnCk0p1Xlx"
      }
    },
    {
      "cell_type": "code",
      "source": [
        "# Reestablezco estructura original\n",
        "df_casciari.reset_index(inplace=True)\n",
        "\n",
        "# Data frame de pruebas\n",
        "df_testing = df_casciari.copy(deep=True)\n",
        "\n",
        "# Crear una nueva columna con la suma total de palabras por año\n",
        "df_testing['Total_palabras'] = df_testing.drop(columns=\"Año\").sum(axis=1)\n",
        "\n",
        "# Encontrar el año con la mayor frecuencia total\n",
        "año_max_frecuencia = df_testing.loc[df_testing['Total_palabras'].idxmax(), 'Año']\n",
        "total_max_frecuencia = df_testing['Total_palabras'].max()\n",
        "\n",
        "print(f\"2. El año con mayor frecuencia total de palabras fue {año_max_frecuencia} con un total de {total_max_frecuencia} palabras.\")"
      ],
      "metadata": {
        "colab": {
          "base_uri": "https://localhost:8080/"
        },
        "id": "KxXBE3ZK0FhI",
        "outputId": "d42f73e6-359c-41cd-e82b-5336ba151b3f"
      },
      "execution_count": 34,
      "outputs": [
        {
          "output_type": "stream",
          "name": "stdout",
          "text": [
            "2. El año con mayor frecuencia total de palabras fue 2005 con un total de 200 palabras.\n"
          ]
        }
      ]
    },
    {
      "cell_type": "code",
      "source": [
        "# Excluir la columna 'Año' si está presente (nuevamente)\n",
        "# Debo omitir total_palabras o en todo caso, reinicializar el dataframe original\n",
        "# columnas_palabras = df_casciari.columns.drop('Año').drop(\"Total_palabras\")\n",
        "\n",
        "# Podria mejorar la práctica haciendo una copia del original para evitar contaminar\n",
        "# los datos con los de prueba...\n",
        "df_testing = df_casciari\n",
        "columnas_palabras = df_testing.columns.drop('Año')\n",
        "\n",
        "# Calcular la variabilidad (máximo - mínimo) para cada palabra\n",
        "variabilidad = df_testing[columnas_palabras].max() - df_testing[columnas_palabras].min()\n",
        "\n",
        "# Encontrar la palabra con mayor variabilidad\n",
        "palabra_mas_variable = variabilidad.idxmax()\n",
        "valor_variabilidad = variabilidad.max()\n",
        "\n",
        "print(f\"3. La palabra con mayor variabilidad entre años es '{palabra_mas_variable}' con una diferencia de {valor_variabilidad}.\")\n"
      ],
      "metadata": {
        "colab": {
          "base_uri": "https://localhost:8080/"
        },
        "id": "VL47j5NB1nQY",
        "outputId": "99c7363b-1e7b-4cc4-9cb9-35ae3125cff9"
      },
      "execution_count": 12,
      "outputs": [
        {
          "output_type": "stream",
          "name": "stdout",
          "text": [
            "3. La palabra con mayor variabilidad entre años es 'madre' con una diferencia de 27.\n"
          ]
        }
      ]
    },
    {
      "cell_type": "markdown",
      "source": [
        "## Parte 3: Visualización para Text Mining\n",
        "\n",
        "### Gráficos de Frecuencias: Primera Aproximación Analítica\n",
        "\n",
        "La visualización transforma matrices de frecuencias en insights comprensibles. Los gráficos de barras son fundamentales para comparar frecuencias de términos e identificar patrones dominantes."
      ],
      "metadata": {
        "id": "g__-yVnm48Mt"
      }
    },
    {
      "cell_type": "code",
      "source": [
        "# Restauro indice, en caso que el campo de abajo de error\n",
        "df_casciari = df_casciari.set_index('Año')"
      ],
      "metadata": {
        "collapsed": true,
        "id": "eo6CaiXF38rj"
      },
      "execution_count": 35,
      "outputs": []
    },
    {
      "cell_type": "code",
      "source": [
        "import matplotlib.pyplot as plt\n",
        "\n",
        "# Análisis de frecuencias para un año específico\n",
        "año_analisis = '2005'\n",
        "frecuencias_2005 = df_casciari.loc[año_analisis]\n",
        "\n",
        "# Visualización de perfil léxico\n",
        "plt.figure(figsize=(10, 6))\n",
        "plt.bar(frecuencias_2005.index, frecuencias_2005.values, color='skyblue', edgecolor='navy')\n",
        "plt.title(f'Perfil de Frecuencias Léxicas - Casciari {año_analisis}', fontsize=14, fontweight='bold')\n",
        "plt.xlabel('Términos del Vocabulario')\n",
        "plt.ylabel('Frecuencia de Aparición')\n",
        "plt.xticks(rotation=45)\n",
        "plt.grid(axis='y', alpha=0.3)\n",
        "\n",
        "# Añadir valores encima de las barras\n",
        "for i, v in enumerate(frecuencias_2005.values):\n",
        "    plt.text(i, v + 1, str(v), ha='center', va='bottom', fontweight='bold')\n",
        "\n",
        "plt.tight_layout()\n",
        "plt.show()\n",
        "\n",
        "print(f\"Interpretación: En {año_analisis}, '{frecuencias_2005.idxmax()}' fue el término más frecuente con {frecuencias_2005.max()} apariciones.\")"
      ],
      "metadata": {
        "colab": {
          "base_uri": "https://localhost:8080/",
          "height": 518
        },
        "id": "cMFDLQKF0D8V",
        "outputId": "095ad957-3172-4739-c629-b8ec1aefc31c"
      },
      "execution_count": 36,
      "outputs": [
        {
          "output_type": "display_data",
          "data": {
            "text/plain": [
              "<Figure size 1000x600 with 1 Axes>"
            ],
            "image/png": "[encoded data removed]"
          },
          "metadata": {}
        },
        {
          "output_type": "stream",
          "name": "stdout",
          "text": [
            "Interpretación: En 2005, 'madre' fue el término más frecuente con 45 apariciones.\n"
          ]
        }
      ]
    },
    {
      "cell_type": "code",
      "source": [
        "# Comparación: Función tradicional vs Lambda\n",
        "\n",
        "# Función tradicional para normalizar frecuencias\n",
        "def normalizar_frecuencia(frecuencia, total):\n",
        "    return frecuencia / total\n",
        "\n",
        "# Equivalente con lambda (más concisa)\n",
        "normalizar_lambda = lambda x, total: x / total\n",
        "\n",
        "# Ejemplo de uso en context de text mining\n",
        "total_palabras_2005 = df_casciari.loc['2005'].sum()\n",
        "print(f\"Total de palabras analizadas en 2005: {total_palabras_2005}\")\n",
        "\n",
        "# Aplicación con función tradicional\n",
        "freq_padre_normalizada = normalizar_frecuencia(df_casciari.loc['2005', 'padre'], total_palabras_2005)\n",
        "print(f\"Frecuencia normalizada de 'padre' (función): {freq_padre_normalizada:.3f}\")\n",
        "\n",
        "# Aplicación con lambda\n",
        "freq_padre_lambda = normalizar_lambda(df_casciari.loc['2005', 'padre'], total_palabras_2005)\n",
        "print(f\"Frecuencia normalizada de 'padre' (lambda): {freq_padre_lambda:.3f}\")"
      ],
      "metadata": {
        "id": "lbOKZzyo5Dm1",
        "colab": {
          "base_uri": "https://localhost:8080/"
        },
        "outputId": "9f19087c-3e0d-4848-d163-c51e0d73144d"
      },
      "execution_count": 37,
      "outputs": [
        {
          "output_type": "stream",
          "name": "stdout",
          "text": [
            "Total de palabras analizadas en 2005: 200\n",
            "Frecuencia normalizada de 'padre' (función): 0.160\n",
            "Frecuencia normalizada de 'padre' (lambda): 0.160\n"
          ]
        }
      ]
    },
    {
      "cell_type": "markdown",
      "source": [
        "### Apply(): Transformación Vectorizada de Corpus\n",
        "\n",
        "Apply() es la herramienta fundamental para procesar corpus completos. Permite aplicar funciones a filas o columnas enteras de manera eficiente."
      ],
      "metadata": {
        "id": "mYAoSXrV0aff"
      }
    },
    {
      "cell_type": "code",
      "source": [
        "# Ejemplo práctico: Normalización de frecuencias por documento\n",
        "# Crear columnas de frecuencias relativas (porcentajes)\n",
        "\n",
        "# Calcular totales por fila (documento)\n",
        "totales_por_año = df_casciari.sum(axis=1)\n",
        "print(\"Total de palabras por año:\")\n",
        "print(totales_por_año)\n",
        "print()\n",
        "\n",
        "# Aplicar normalización usando lambda y apply\n",
        "# axis=1 significa aplicar función por fila\n",
        "df_normalizado = df_casciari.apply(lambda fila: fila / fila.sum(), axis=1)\n",
        "\n",
        "print(\"Matriz de frecuencias relativas (proporciones):\")\n",
        "print(df_normalizado.round(3))  # Redondear para mejor visualización\n",
        "print()\n",
        "\n",
        "# Verificación: cada fila debe sumar 1.0\n",
        "print(\"Verificación - suma de proporciones por año:\")\n",
        "print(df_normalizado.sum(axis=1))"
      ],
      "metadata": {
        "colab": {
          "base_uri": "https://localhost:8080/"
        },
        "id": "wdqJIq5m0hSm",
        "outputId": "7b95c8ec-0d76-443f-c399-ee92ff62f146"
      },
      "execution_count": 38,
      "outputs": [
        {
          "output_type": "stream",
          "name": "stdout",
          "text": [
            "Total de palabras por año:\n",
            "Año\n",
            "2004    193\n",
            "2005    200\n",
            "2006    175\n",
            "2007    185\n",
            "dtype: int64\n",
            "\n",
            "Matriz de frecuencias relativas (proporciones):\n",
            "      padre  madre  fútbol  escritura  argentina   blog\n",
            "Año                                                    \n",
            "2004  0.233  0.119   0.347      0.062      0.161  0.078\n",
            "2005  0.160  0.225   0.225      0.140      0.140  0.110\n",
            "2006  0.160  0.103   0.297      0.194      0.143  0.103\n",
            "2007  0.189  0.119   0.222      0.157      0.178  0.135\n",
            "\n",
            "Verificación - suma de proporciones por año:\n",
            "Año\n",
            "2004    1.0\n",
            "2005    1.0\n",
            "2006    1.0\n",
            "2007    1.0\n",
            "dtype: float64\n"
          ]
        }
      ]
    },
    {
      "cell_type": "markdown",
      "source": [
        "#### Ejercicio 5: Transformación de Corpus\n",
        "\n",
        "Instrucciones: Crea una nueva columna \"longitud_texto\" que contenga el número de caracteres de cada texto procesado usando lambda y apply()."
      ],
      "metadata": {
        "id": "4gpXtp6y5JTj"
      }
    },
    {
      "cell_type": "code",
      "source": [
        "# Simulación del patrón típico en text mining\n",
        "# (Similar a lo que veremos en el laboratorio principal)\n",
        "\n",
        "def procesar_documento_casciari(texto_simulado):\n",
        "    \"\"\"Simula función de limpieza de texto\"\"\"\n",
        "    # En el laboratorio real, esto sería clean_text_round1(texto)\n",
        "    return texto_simulado.lower().replace(\".\", \"\").replace(\",\", \"\")\n",
        "\n",
        "def obtener_length_casciari(texto_medir):\n",
        "    \"\"\" Hace un len de todo el texto insertado \"\"\"\n",
        "    length = len(texto_medir)\n",
        "    return length\n",
        "\n",
        "# Datos simulados de documentos\n",
        "documentos_ejemplo = pd.DataFrame({\n",
        "    'año': ['2004', '2005', '2006'],\n",
        "    'texto_original': [\n",
        "        \"El padre jugaba fútbol en Argentina.\",\n",
        "        \"La madre escribía sobre la familia.\",\n",
        "        \"Los libros hablaban de fútbol argentino.\"\n",
        "    ]\n",
        "})\n",
        "\n",
        "# Aplicar transformación usando lambda + apply\n",
        "documentos_ejemplo['texto_procesado'] = documentos_ejemplo['texto_original'].apply(\n",
        "    lambda texto: procesar_documento_casciari(texto)\n",
        ")\n",
        "\n",
        "documentos_ejemplo[\"longitud_texto\"] = documentos_ejemplo[\"texto_original\"].apply(\n",
        "    lambda texto: obtener_length_casciari(texto)\n",
        ")\n",
        "\n",
        "documentos_ejemplo[\"longitud_texto_procesado\"] = documentos_ejemplo[\"texto_procesado\"].apply(\n",
        "    lambda texto: obtener_length_casciari(texto)\n",
        ")\n",
        "\n",
        "print(\"Comparación: Texto Original vs Procesado\")\n",
        "print(\"=\" * 50)\n",
        "for i, fila in documentos_ejemplo.iterrows():\n",
        "    print(f\"Año {fila['año']}:\")\n",
        "    print(f\"  Original:   {fila['texto_original']}\")\n",
        "    print(f\"  Procesado:  {fila['texto_procesado']}\")\n",
        "    print(f\"  Longitud Original:  {fila['longitud_texto']}\")\n",
        "    print(f\"  Longitud Procesado:  {fila['longitud_texto_procesado']}\")"
      ],
      "metadata": {
        "id": "YQWcB7Qa5SsW",
        "colab": {
          "base_uri": "https://localhost:8080/"
        },
        "outputId": "e0e821db-e03f-407a-9cf9-694a1d2a2b1f"
      },
      "execution_count": 39,
      "outputs": [
        {
          "output_type": "stream",
          "name": "stdout",
          "text": [
            "Comparación: Texto Original vs Procesado\n",
            "==================================================\n",
            "Año 2004:\n",
            "  Original:   El padre jugaba fútbol en Argentina.\n",
            "  Procesado:  el padre jugaba fútbol en argentina\n",
            "  Longitud Original:  36\n",
            "  Longitud Procesado:  35\n",
            "Año 2005:\n",
            "  Original:   La madre escribía sobre la familia.\n",
            "  Procesado:  la madre escribía sobre la familia\n",
            "  Longitud Original:  35\n",
            "  Longitud Procesado:  34\n",
            "Año 2006:\n",
            "  Original:   Los libros hablaban de fútbol argentino.\n",
            "  Procesado:  los libros hablaban de fútbol argentino\n",
            "  Longitud Original:  40\n",
            "  Longitud Procesado:  39\n"
          ]
        }
      ]
    },
    {
      "cell_type": "markdown",
      "source": [
        "### Conceptualización de la Serialización\n",
        "\n",
        "Pickle convierte objetos Python complejos en flujos de bytes que pueden guardarse en disco y recuperarse posteriormente sin pérdida de información. Es fundamental para proyectos de text mining donde:\n",
        "\n",
        "- El procesamiento es computacionalmente costoso\n",
        "- Los resultados intermedios necesitan preservarse\n",
        "- Se requiere compartir análisis entre sesiones o colaboradores"
      ],
      "metadata": {
        "id": "kGvATtbX5XD2"
      }
    },
    {
      "cell_type": "markdown",
      "source": [
        "## Parte 5: Persistencia de Datos con Pickle\n",
        "\n",
        "### Serialización en Text Mining\n",
        "\n",
        "En proyectos de text mining, los corpus procesados y las matrices documento-término representan horas de computación. Pickle permite guardar estos objetos complejos para reutilización posterior."
      ],
      "metadata": {
        "id": "n4HD_6445buy"
      }
    },
    {
      "cell_type": "markdown",
      "source": [
        "#### Seralizacion: Almacenar matrices y análisis"
      ],
      "metadata": {
        "id": "iEK0XTTLws0T"
      }
    },
    {
      "cell_type": "code",
      "source": [
        "import pickle\n",
        "\n",
        "# 1. Serialización: Guardar matrices y análisis procesados\n",
        "# df_casciari viene de Ejercicio 2\n",
        "corpus_analizado = {\n",
        "    \"matriz_frecuencias\": df_casciari,\n",
        "    \"matriz_normalizada\": df_normalizado,\n",
        "    \"metadatos\": {\n",
        "        \"autor\": \"Hernán Casciari\",\n",
        "        \"período\": \"2004-2007\",\n",
        "        \"total_documentos\": len(df_casciari),\n",
        "        \"vocabulario_size\": len(df_casciari.columns)\n",
        "    }\n",
        "}\n",
        "\n",
        "# Guardar el análisis completo\n",
        "with open(\"analisis_casciari.pkl\", \"wb\") as archivo:\n",
        "    pickle.dump(corpus_analizado, archivo)\n",
        "    print(\"Análisis de corpus serializado y guardado exitosamente\")\n",
        "\n",
        "# Ventajas en text mining:\n",
        "# - Evita recalcular vectorizaciones costosas\n",
        "# - Preserva estructuras de datos complejas\n",
        "# - Permite compartir análisis entre sesiones"
      ],
      "metadata": {
        "id": "FKjSBRjw9SZj",
        "colab": {
          "base_uri": "https://localhost:8080/"
        },
        "outputId": "addc9652-8736-4fe4-b515-f8cff2fc3268"
      },
      "execution_count": 40,
      "outputs": [
        {
          "output_type": "stream",
          "name": "stdout",
          "text": [
            "Análisis de corpus serializado y guardado exitosamente\n"
          ]
        }
      ]
    },
    {
      "cell_type": "markdown",
      "source": [
        "#### De-Seralizacion: Recuperar análisis previos"
      ],
      "metadata": {
        "id": "FkADwmVOwml8"
      }
    },
    {
      "cell_type": "code",
      "source": [
        "# 2. Deserialización: Recuperar análisis previos\n",
        "with open(\"analisis_casciari.pkl\", \"rb\") as archivo:\n",
        "    datos_recuperados = pickle.load(archivo)\n",
        "    print(\"Análisis recuperado exitosamente\")\n",
        "\n",
        "# Verificar que los datos se restauraron correctamente\n",
        "print(\"\\nMetadatos del análisis:\")\n",
        "for clave, valor in datos_recuperados[\"metadatos\"].items():\n",
        "    print(f\"  {clave}: {valor}\")\n",
        "\n",
        "print(\"\\nPrimeras filas de la matriz recuperada:\")\n",
        "print(datos_recuperados[\"matriz_frecuencias\"].head())"
      ],
      "metadata": {
        "id": "6qWsbzKA5bQz",
        "colab": {
          "base_uri": "https://localhost:8080/"
        },
        "outputId": "b744cb0b-e8cc-408d-f43e-d77cece36623"
      },
      "execution_count": 41,
      "outputs": [
        {
          "output_type": "stream",
          "name": "stdout",
          "text": [
            "Análisis recuperado exitosamente\n",
            "\n",
            "Metadatos del análisis:\n",
            "  autor: Hernán Casciari\n",
            "  período: 2004-2007\n",
            "  total_documentos: 4\n",
            "  vocabulario_size: 6\n",
            "\n",
            "Primeras filas de la matriz recuperada:\n",
            "      padre  madre  fútbol  escritura  argentina  blog\n",
            "Año                                                   \n",
            "2004     45     23      67         12         31    15\n",
            "2005     32     45      45         28         28    22\n",
            "2006     28     18      52         34         25    18\n",
            "2007     35     22      41         29         33    25\n"
          ]
        }
      ]
    },
    {
      "cell_type": "markdown",
      "source": [
        "#### Ejercicio 6: Persistencia de Análisis\n",
        "\n",
        "Instrucciones: Crea un diccionario que contenga tanto el DataFrame original como el normalizado, añade metadatos sobre el vocabulario total, y guárdalo usando pickle con el nombre \"mi_analisis_textual.pkl\"."
      ],
      "metadata": {
        "id": "6VHDgb_r5zAW"
      }
    },
    {
      "cell_type": "code",
      "source": [
        "corpus_analizado = {\n",
        "    \"matriz_frecuencias\": df_casciari,\n",
        "    \"matriz_normalizada\": df_normalizado,\n",
        "    \"metadatos\": {\n",
        "        \"autor\": \"Hernán Casciari\",\n",
        "        \"período\": \"2004-2007\",\n",
        "        \"total_documentos\": len(df_casciari),\n",
        "        \"vocabulario_size\": len(df_casciari.columns),\n",
        "        \"vocabulario_variabilidad\": \"Palabra: \" + palabra_mas_variable+ \" - \"+ str(valor_variabilidad)\n",
        "    }\n",
        "}\n",
        "\n",
        "with open(\"analisis_casciari_ej6.pkl\", \"wb\") as archivo:\n",
        "    pickle.dump(corpus_analizado, archivo)\n",
        "    print(\"Análisis de corpus serializado y guardado exitosamente\")\n",
        "\n"
      ],
      "metadata": {
        "colab": {
          "base_uri": "https://localhost:8080/"
        },
        "id": "HXom-eQuxVPC",
        "outputId": "9cfb4f87-d10d-468b-b6c3-1ff8fee1b0ab"
      },
      "execution_count": 42,
      "outputs": [
        {
          "output_type": "stream",
          "name": "stdout",
          "text": [
            "Análisis de corpus serializado y guardado exitosamente\n"
          ]
        }
      ]
    },
    {
      "cell_type": "markdown",
      "source": [
        "## Parte 6: Interpretación de Visualizaciones en Text Mining\n",
        "\n",
        "### Preparación para el Análisis de Word Clouds\n",
        "\n",
        "En el laboratorio principal trabajaremos con nubes de palabras (word clouds) como herramienta de visualización. Estas representaciones gráficas requieren habilidades interpretativas específicas."
      ],
      "metadata": {
        "id": "ZcKIip8W5l0_"
      }
    },
    {
      "cell_type": "markdown",
      "source": [
        "### Metodología de Interpretación de Word Clouds\n",
        "\n",
        "**Elementos visuales clave:**\n",
        "- **Tamaño de palabra** = Frecuencia relativa en el corpus\n",
        "- **Posición** = Principalmente estética (sin significado analítico)\n",
        "- **Color** = Estético o categórico según configuración\n",
        "\n",
        "**Preguntas analíticas fundamentales:**\n",
        "\n",
        "1. **Identificación de dominancias temáticas:**\n",
        "   - ¿Qué palabras aparecen más prominentes?\n",
        "   - ¿Qué temas se pueden inferir de las palabras grandes?\n",
        "\n",
        "2. **Análisis temporal comparativo:**\n",
        "   - Al comparar word clouds de diferentes períodos: ¿Qué temas emergen o desaparecen?\n",
        "   - ¿Qué palabras cambian de tamaño significativamente?\n",
        "\n",
        "3. **Contextualización biográfica:**\n",
        "   - ¿Cómo se relacionan las palabras prominentes con eventos conocidos del autor?\n",
        "   - ¿Qué patrones reflejan cambios en la vida personal o profesional?\n",
        "\n",
        "### Aplicación al Caso Casciari\n",
        "\n",
        "**Contexto biográfico relevante:**\n",
        "- **2004**: Nacimiento de su hija → Expectativa de vocabulario familiar\n",
        "- **2005**: Publicación de \"Más respeto, que soy tu madre\" → Posible énfasis en temas maternales\n",
        "- **Evolución temporal**: De temas familiares a temas profesionales y literarios\n",
        "\n",
        "**Hipótesis interpretativas a contrastar:**\n",
        "- Incremento gradual de vocabulario relacionado con paternidad post-2004\n",
        "- Variación en la prominencia de términos futbolísticos según contextos deportivos\n",
        "- Evolución del vocabulario literario paralela al crecimiento de su carrera como escritor"
      ],
      "metadata": {
        "id": "XK0QtSd75wmW"
      }
    },
    {
      "cell_type": "markdown",
      "source": [
        "## Síntesis y Preparación para el Laboratorio Principal\n",
        "\n",
        "### Conceptos Integrados\n",
        "\n",
        "Has trabajado con las herramientas fundamentales del text mining:\n",
        "\n",
        "**Estructuras de datos:**\n",
        "- Listas → Vocabularios y secuencias textuales\n",
        "- Diccionarios → Vectores de frecuencias término-valor  \n",
        "- DataFrames → Matrices documento-término\n",
        "\n",
        "**Transformaciones:**\n",
        "- Lambda + apply() → Procesamiento vectorizado de corpus\n",
        "- Normalización → Frecuencias relativas y comparaciones válidas\n",
        "- Serialización → Persistencia de análisis complejos\n",
        "\n",
        "**Análisis:**\n",
        "- Identificación de patrones frecuenciales\n",
        "- Comparaciones temporales y temáticas\n",
        "- Interpretación de visualizaciones especializadas\n",
        "\n",
        "### Transición al Text Mining Avanzado\n",
        "\n",
        "El laboratorio principal aplicará estos conceptos a escala real:\n",
        "- Corpus de 386 documentos (vs 4 simulados aquí)\n",
        "- Vocabulario de miles de términos (vs 5 palabras ejemplo)\n",
        "- Pipeline completo de limpieza y procesamiento\n",
        "- Análisis estadístico comprehensivo\n",
        "- Visualizaciones profesionales con interpretación contextual\n",
        "\n",
        "### Preguntas de Reflexión Final\n",
        "\n",
        "1. **Metodológica**: ¿Qué ventajas ofrece el enfoque estadístico/frecuencial comparado con métodos basados en reglas?\n",
        "\n",
        "2. **Técnica**: ¿Cómo se relaciona cada estructura de datos Python con los componentes del pipeline de text mining?\n",
        "\n",
        "3. **Analítica**: ¿Qué tipos de insights esperarías obtener del análisis completo del corpus de Casciari?\n",
        "\n",
        "4. **Conceptual**: ¿En qué punto crees que sería necesario pasar de métodos frecuenciales a machine learning?\n",
        "\n",
        "Estas bases conceptuales y técnicas te permitirán abordar el análisis completo con comprensión profunda de cada etapa del proceso."
      ],
      "metadata": {
        "id": "9JCuvZ82zCdQ"
      }
    }
  ]
}